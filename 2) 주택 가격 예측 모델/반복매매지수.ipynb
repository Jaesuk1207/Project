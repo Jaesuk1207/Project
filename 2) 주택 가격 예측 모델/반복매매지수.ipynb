{
 "cells": [
  {
   "cell_type": "code",
   "execution_count": 1,
   "metadata": {
    "executionInfo": {
     "elapsed": 408,
     "status": "ok",
     "timestamp": 1621931160985,
     "user": {
      "displayName": "김성언",
      "photoUrl": "",
      "userId": "08359762628877871553"
     },
     "user_tz": -540
    },
    "id": "iaJY60s8Zlp2"
   },
   "outputs": [],
   "source": [
    "import pandas as pd\n",
    "import numpy as np\n",
    "import matplotlib.pyplot as plt"
   ]
  },
  {
   "cell_type": "code",
   "execution_count": 3,
   "metadata": {
    "executionInfo": {
     "elapsed": 414,
     "status": "ok",
     "timestamp": 1621931200004,
     "user": {
      "displayName": "김성언",
      "photoUrl": "",
      "userId": "08359762628877871553"
     },
     "user_tz": -540
    },
    "id": "-W87IZVjaEmz"
   },
   "outputs": [],
   "source": [
    "data = pd.read_csv(\"/content/drive/MyDrive/태블로공유폴더/작업/아파트 상세정보   실거래가 데이터/세종시_아파트_매매_실거래가(2016.01.01~2021.05.25).csv\")"
   ]
  },
  {
   "cell_type": "code",
   "execution_count": 4,
   "metadata": {
    "colab": {
     "base_uri": "https://localhost:8080/"
    },
    "executionInfo": {
     "elapsed": 441,
     "status": "ok",
     "timestamp": 1621931200945,
     "user": {
      "displayName": "김성언",
      "photoUrl": "",
      "userId": "08359762628877871553"
     },
     "user_tz": -540
    },
    "id": "meSQRrTGW9SO",
    "outputId": "a6891e93-80b6-42c0-e3b7-f07abd11a6f8"
   },
   "outputs": [
    {
     "name": "stdout",
     "output_type": "stream",
     "text": [
      "Drive already mounted at /content/drive; to attempt to forcibly remount, call drive.mount(\"/content/drive\", force_remount=True).\n"
     ]
    }
   ],
   "source": [
    "from google.colab import drive\n",
    "drive.mount('/content/drive')"
   ]
  },
  {
   "cell_type": "code",
   "execution_count": 7,
   "metadata": {
    "executionInfo": {
     "elapsed": 239,
     "status": "ok",
     "timestamp": 1621931211962,
     "user": {
      "displayName": "김성언",
      "photoUrl": "",
      "userId": "08359762628877871553"
     },
     "user_tz": -540
    },
    "id": "2WlbbmQ3c4zQ"
   },
   "outputs": [],
   "source": [
    "data1 = data.copy()"
   ]
  },
  {
   "cell_type": "markdown",
   "metadata": {
    "id": "NWpmt9xGwn16"
   },
   "source": [
    "## **반복매매법**\n",
    "\n",
    "##### 반복매매모형은 거래가격과 거래시점 정보만을 이용하여 더미변수를 설명변수로 하는 선형회귀모형에 의해 지수를 추정하기 때문에, 다양한 주택특성 정보를 요구하는 특성가격모형에 비해 모형의 간결성과 요구되는 자료의 간편성이 큰 장점으로 꼽힌다"
   ]
  },
  {
   "cell_type": "code",
   "execution_count": 8,
   "metadata": {
    "executionInfo": {
     "elapsed": 394,
     "status": "ok",
     "timestamp": 1621931214082,
     "user": {
      "displayName": "김성언",
      "photoUrl": "",
      "userId": "08359762628877871553"
     },
     "user_tz": -540
    },
    "id": "7bCPGG-Mc6FU"
   },
   "outputs": [],
   "source": [
    "data2 = data1[[\"단지명\",\"전용면적(㎡)\",\"계약년월\",\"거래금액(만원)\"]]"
   ]
  },
  {
   "cell_type": "code",
   "execution_count": 9,
   "metadata": {
    "colab": {
     "base_uri": "https://localhost:8080/",
     "height": 195
    },
    "executionInfo": {
     "elapsed": 14,
     "status": "ok",
     "timestamp": 1621931214084,
     "user": {
      "displayName": "김성언",
      "photoUrl": "",
      "userId": "08359762628877871553"
     },
     "user_tz": -540
    },
    "id": "RD7SXmEWkVrg",
    "outputId": "d3d3c552-1797-4960-e048-3f34a1c2b75d"
   },
   "outputs": [
    {
     "data": {
      "text/html": [
       "<div>\n",
       "<style scoped>\n",
       "    .dataframe tbody tr th:only-of-type {\n",
       "        vertical-align: middle;\n",
       "    }\n",
       "\n",
       "    .dataframe tbody tr th {\n",
       "        vertical-align: top;\n",
       "    }\n",
       "\n",
       "    .dataframe thead th {\n",
       "        text-align: right;\n",
       "    }\n",
       "</style>\n",
       "<table border=\"1\" class=\"dataframe\">\n",
       "  <thead>\n",
       "    <tr style=\"text-align: right;\">\n",
       "      <th></th>\n",
       "      <th>단지명</th>\n",
       "      <th>전용면적(㎡)</th>\n",
       "      <th>계약년월</th>\n",
       "      <th>거래금액(만원)</th>\n",
       "    </tr>\n",
       "  </thead>\n",
       "  <tbody>\n",
       "    <tr>\n",
       "      <th>0</th>\n",
       "      <td>가락마을 20단지(호반베르디움5차)</td>\n",
       "      <td>84.9895</td>\n",
       "      <td>201601</td>\n",
       "      <td>27,330</td>\n",
       "    </tr>\n",
       "    <tr>\n",
       "      <th>1</th>\n",
       "      <td>가락마을 20단지(호반베르디움5차)</td>\n",
       "      <td>84.9895</td>\n",
       "      <td>201602</td>\n",
       "      <td>29,000</td>\n",
       "    </tr>\n",
       "    <tr>\n",
       "      <th>2</th>\n",
       "      <td>가락마을 20단지(호반베르디움5차)</td>\n",
       "      <td>84.9895</td>\n",
       "      <td>201603</td>\n",
       "      <td>28,660</td>\n",
       "    </tr>\n",
       "    <tr>\n",
       "      <th>3</th>\n",
       "      <td>가락마을 20단지(호반베르디움5차)</td>\n",
       "      <td>84.9895</td>\n",
       "      <td>201604</td>\n",
       "      <td>28,200</td>\n",
       "    </tr>\n",
       "    <tr>\n",
       "      <th>4</th>\n",
       "      <td>가락마을 20단지(호반베르디움5차)</td>\n",
       "      <td>84.9895</td>\n",
       "      <td>201605</td>\n",
       "      <td>33,500</td>\n",
       "    </tr>\n",
       "  </tbody>\n",
       "</table>\n",
       "</div>"
      ],
      "text/plain": [
       "                   단지명  전용면적(㎡)    계약년월        거래금액(만원)\n",
       "0  가락마을 20단지(호반베르디움5차)  84.9895  201601          27,330\n",
       "1  가락마을 20단지(호반베르디움5차)  84.9895  201602          29,000\n",
       "2  가락마을 20단지(호반베르디움5차)  84.9895  201603          28,660\n",
       "3  가락마을 20단지(호반베르디움5차)  84.9895  201604          28,200\n",
       "4  가락마을 20단지(호반베르디움5차)  84.9895  201605          33,500"
      ]
     },
     "execution_count": 9,
     "metadata": {
      "tags": []
     },
     "output_type": "execute_result"
    }
   ],
   "source": [
    "data2.head()"
   ]
  },
  {
   "cell_type": "code",
   "execution_count": 13,
   "metadata": {
    "colab": {
     "base_uri": "https://localhost:8080/"
    },
    "executionInfo": {
     "elapsed": 264,
     "status": "ok",
     "timestamp": 1621931259262,
     "user": {
      "displayName": "김성언",
      "photoUrl": "",
      "userId": "08359762628877871553"
     },
     "user_tz": -540
    },
    "id": "nUhbwUOromd1",
    "outputId": "89ca20d6-2116-4af5-857b-790a5fb9e26d"
   },
   "outputs": [
    {
     "name": "stderr",
     "output_type": "stream",
     "text": [
      "/usr/local/lib/python3.7/dist-packages/ipykernel_launcher.py:1: SettingWithCopyWarning: \n",
      "A value is trying to be set on a copy of a slice from a DataFrame.\n",
      "Try using .loc[row_indexer,col_indexer] = value instead\n",
      "\n",
      "See the caveats in the documentation: https://pandas.pydata.org/pandas-docs/stable/user_guide/indexing.html#returning-a-view-versus-a-copy\n",
      "  \"\"\"Entry point for launching an IPython kernel.\n"
     ]
    }
   ],
   "source": [
    "data2[\"거래금액(만원)\"] = data2[\"거래금액(만원)\"].str.replace(\",\",\"\").astype(int)"
   ]
  },
  {
   "cell_type": "code",
   "execution_count": 10,
   "metadata": {
    "colab": {
     "base_uri": "https://localhost:8080/"
    },
    "executionInfo": {
     "elapsed": 13,
     "status": "ok",
     "timestamp": 1621931214086,
     "user": {
      "displayName": "김성언",
      "photoUrl": "",
      "userId": "08359762628877871553"
     },
     "user_tz": -540
    },
    "id": "k4ePH1WdnQVr",
    "outputId": "4cdc6c62-5e54-49d3-acb5-8bb0f1391807"
   },
   "outputs": [
    {
     "data": {
      "text/plain": [
       "array([201601, 201602, 201603, 201604, 201605, 201606, 201607, 201608,\n",
       "       201609, 201610, 201611, 201612, 201704, 201705, 201706, 201707,\n",
       "       201708, 201712, 201702, 201709, 201710, 201701, 201703, 201711,\n",
       "       201801, 201803, 201804, 201806, 201807, 201808, 201809, 201810,\n",
       "       201811, 201812, 201802, 201805, 201905, 201906, 201907, 201908,\n",
       "       201909, 201911, 201912, 201901, 201902, 201903, 201904, 201910,\n",
       "       202006, 202001, 202002, 202003, 202004, 202005, 202007, 202008,\n",
       "       202009, 202011, 202012, 202010, 202101, 202102, 202103, 202104,\n",
       "       202105])"
      ]
     },
     "execution_count": 10,
     "metadata": {
      "tags": []
     },
     "output_type": "execute_result"
    }
   ],
   "source": [
    "data2[\"계약년월\"].unique()"
   ]
  },
  {
   "cell_type": "code",
   "execution_count": 14,
   "metadata": {
    "executionInfo": {
     "elapsed": 320,
     "status": "ok",
     "timestamp": 1621931271355,
     "user": {
      "displayName": "김성언",
      "photoUrl": "",
      "userId": "08359762628877871553"
     },
     "user_tz": -540
    },
    "id": "lEW3voUYc--8"
   },
   "outputs": [],
   "source": [
    "data3 = data2.groupby([\"단지명\",\"전용면적(㎡)\"]).nunique() #단지별, 전용면적별로 나온 횟수"
   ]
  },
  {
   "cell_type": "code",
   "execution_count": 15,
   "metadata": {
    "colab": {
     "base_uri": "https://localhost:8080/",
     "height": 431
    },
    "executionInfo": {
     "elapsed": 6,
     "status": "ok",
     "timestamp": 1621931271738,
     "user": {
      "displayName": "김성언",
      "photoUrl": "",
      "userId": "08359762628877871553"
     },
     "user_tz": -540
    },
    "id": "xrS265WvkUo2",
    "outputId": "4b4b8a73-ed48-403f-87bc-9e762db7b862"
   },
   "outputs": [
    {
     "data": {
      "text/html": [
       "<div>\n",
       "<style scoped>\n",
       "    .dataframe tbody tr th:only-of-type {\n",
       "        vertical-align: middle;\n",
       "    }\n",
       "\n",
       "    .dataframe tbody tr th {\n",
       "        vertical-align: top;\n",
       "    }\n",
       "\n",
       "    .dataframe thead th {\n",
       "        text-align: right;\n",
       "    }\n",
       "</style>\n",
       "<table border=\"1\" class=\"dataframe\">\n",
       "  <thead>\n",
       "    <tr style=\"text-align: right;\">\n",
       "      <th></th>\n",
       "      <th></th>\n",
       "      <th>계약년월</th>\n",
       "      <th>거래금액(만원)</th>\n",
       "    </tr>\n",
       "    <tr>\n",
       "      <th>단지명</th>\n",
       "      <th>전용면적(㎡)</th>\n",
       "      <th></th>\n",
       "      <th></th>\n",
       "    </tr>\n",
       "  </thead>\n",
       "  <tbody>\n",
       "    <tr>\n",
       "      <th rowspan=\"2\" valign=\"top\">(주)금강사원임대아파트</th>\n",
       "      <th>32.3200</th>\n",
       "      <td>1</td>\n",
       "      <td>3</td>\n",
       "    </tr>\n",
       "    <tr>\n",
       "      <th>53.4600</th>\n",
       "      <td>1</td>\n",
       "      <td>3</td>\n",
       "    </tr>\n",
       "    <tr>\n",
       "      <th rowspan=\"3\" valign=\"top\">SR파크센텀</th>\n",
       "      <th>17.8518</th>\n",
       "      <td>3</td>\n",
       "      <td>3</td>\n",
       "    </tr>\n",
       "    <tr>\n",
       "      <th>19.5794</th>\n",
       "      <td>4</td>\n",
       "      <td>5</td>\n",
       "    </tr>\n",
       "    <tr>\n",
       "      <th>20.1058</th>\n",
       "      <td>5</td>\n",
       "      <td>5</td>\n",
       "    </tr>\n",
       "    <tr>\n",
       "      <th>...</th>\n",
       "      <th>...</th>\n",
       "      <td>...</td>\n",
       "      <td>...</td>\n",
       "    </tr>\n",
       "    <tr>\n",
       "      <th>호려울마을8단지(중흥 에코시티)</th>\n",
       "      <th>109.9693</th>\n",
       "      <td>9</td>\n",
       "      <td>19</td>\n",
       "    </tr>\n",
       "    <tr>\n",
       "      <th rowspan=\"4\" valign=\"top\">호수의 아침</th>\n",
       "      <th>17.4250</th>\n",
       "      <td>13</td>\n",
       "      <td>12</td>\n",
       "    </tr>\n",
       "    <tr>\n",
       "      <th>17.8340</th>\n",
       "      <td>26</td>\n",
       "      <td>23</td>\n",
       "    </tr>\n",
       "    <tr>\n",
       "      <th>18.1680</th>\n",
       "      <td>5</td>\n",
       "      <td>5</td>\n",
       "    </tr>\n",
       "    <tr>\n",
       "      <th>19.9330</th>\n",
       "      <td>20</td>\n",
       "      <td>21</td>\n",
       "    </tr>\n",
       "  </tbody>\n",
       "</table>\n",
       "<p>899 rows × 2 columns</p>\n",
       "</div>"
      ],
      "text/plain": [
       "                            계약년월  거래금액(만원)\n",
       "단지명               전용면적(㎡)                 \n",
       "(주)금강사원임대아파트      32.3200      1         3\n",
       "                  53.4600      1         3\n",
       "SR파크센텀            17.8518      3         3\n",
       "                  19.5794      4         5\n",
       "                  20.1058      5         5\n",
       "...                          ...       ...\n",
       "호려울마을8단지(중흥 에코시티) 109.9693     9        19\n",
       "호수의 아침            17.4250     13        12\n",
       "                  17.8340     26        23\n",
       "                  18.1680      5         5\n",
       "                  19.9330     20        21\n",
       "\n",
       "[899 rows x 2 columns]"
      ]
     },
     "execution_count": 15,
     "metadata": {
      "tags": []
     },
     "output_type": "execute_result"
    }
   ],
   "source": [
    "data3"
   ]
  },
  {
   "cell_type": "code",
   "execution_count": 16,
   "metadata": {
    "executionInfo": {
     "elapsed": 239,
     "status": "ok",
     "timestamp": 1621931273005,
     "user": {
      "displayName": "김성언",
      "photoUrl": "",
      "userId": "08359762628877871553"
     },
     "user_tz": -540
    },
    "id": "_vaXFmI8eyK-"
   },
   "outputs": [],
   "source": [
    "index = data3[data3[\"계약년월\"] != 1].index # index = 한번 이상 나온 거래"
   ]
  },
  {
   "cell_type": "code",
   "execution_count": 17,
   "metadata": {
    "executionInfo": {
     "elapsed": 12,
     "status": "ok",
     "timestamp": 1621931274295,
     "user": {
      "displayName": "김성언",
      "photoUrl": "",
      "userId": "08359762628877871553"
     },
     "user_tz": -540
    },
    "id": "8FU_MB8yH82e"
   },
   "outputs": [],
   "source": [
    "del_index = data3[data3[\"계약년월\"] == 1].index # del_index = 한번만 나와서 삭제할 거래 "
   ]
  },
  {
   "cell_type": "code",
   "execution_count": 18,
   "metadata": {
    "colab": {
     "base_uri": "https://localhost:8080/"
    },
    "executionInfo": {
     "elapsed": 14,
     "status": "ok",
     "timestamp": 1621931274765,
     "user": {
      "displayName": "김성언",
      "photoUrl": "",
      "userId": "08359762628877871553"
     },
     "user_tz": -540
    },
    "id": "hnA9D_t4nohV",
    "outputId": "bab256a8-7fef-4ffb-cd4e-97f0518f0726"
   },
   "outputs": [
    {
     "data": {
      "text/plain": [
       "MultiIndex([(           'SR파크센텀',  17.8518),\n",
       "            (           'SR파크센텀',  19.5794),\n",
       "            (           'SR파크센텀',  20.1058),\n",
       "            (           'SR파크센텀',  20.1536),\n",
       "            (           'SR파크센텀',  21.5812),\n",
       "            (           'SR파크센텀',  23.4973),\n",
       "            (        '가락마을 19단지',  59.6506),\n",
       "            (        '가락마을 19단지',  84.6663),\n",
       "            (        '가락마을 19단지',  84.6972),\n",
       "            (        '가락마을 19단지',  84.9544),\n",
       "            ...\n",
       "            (   '호려울마을6단지(모아엘가)', 117.0336),\n",
       "            (   '호려울마을6단지(모아엘가)', 118.4815),\n",
       "            ('호려울마을8단지(중흥 에코시티)',  84.9895),\n",
       "            ('호려울마을8단지(중흥 에코시티)',  84.9901),\n",
       "            ('호려울마을8단지(중흥 에코시티)',  98.9982),\n",
       "            ('호려울마을8단지(중흥 에코시티)', 109.9693),\n",
       "            (           '호수의 아침',   17.425),\n",
       "            (           '호수의 아침',   17.834),\n",
       "            (           '호수의 아침',   18.168),\n",
       "            (           '호수의 아침',   19.933)],\n",
       "           names=['단지명', '전용면적(㎡)'], length=741)"
      ]
     },
     "execution_count": 18,
     "metadata": {
      "tags": []
     },
     "output_type": "execute_result"
    }
   ],
   "source": [
    "index # 중복거래의 단지명과 면적"
   ]
  },
  {
   "cell_type": "code",
   "execution_count": 19,
   "metadata": {
    "colab": {
     "base_uri": "https://localhost:8080/"
    },
    "executionInfo": {
     "elapsed": 10,
     "status": "ok",
     "timestamp": 1621931275135,
     "user": {
      "displayName": "김성언",
      "photoUrl": "",
      "userId": "08359762628877871553"
     },
     "user_tz": -540
    },
    "id": "fFglKsm_ICrl",
    "outputId": "feeafa7b-c9c5-4259-b4b4-685fc08b5993"
   },
   "outputs": [
    {
     "data": {
      "text/plain": [
       "MultiIndex([(     '(주)금강사원임대아파트',             32.32),\n",
       "            (     '(주)금강사원임대아파트',             53.46),\n",
       "            (           'SR파크센텀',           20.8816),\n",
       "            (        '가락마을 19단지',           64.1716),\n",
       "            (        '가락마을 19단지',           84.8632),\n",
       "            (        '가락마을 19단지', 84.88600000000002),\n",
       "            (         '가락마을 2단지',          107.6953),\n",
       "            (         '가락마을 2단지',          111.3013),\n",
       "            (         '가락마을 2단지',          111.3059),\n",
       "            (         '가락마을 2단지',          113.1897),\n",
       "            ...\n",
       "            (         '해밀마을 2단지',             84.99),\n",
       "            (         '해밀마을 2단지',            102.67),\n",
       "            (         '해밀마을 2단지',            102.68),\n",
       "            (         '해밀마을 2단지',             102.9),\n",
       "            (        '호려울마을 7단지',          102.9145),\n",
       "            (        '호려울마을 7단지',          102.9385),\n",
       "            ('호려울마을10단지(중흥S클래스)',          169.0564),\n",
       "            (         '호려울마을3단지', 59.96100000000001),\n",
       "            (   '호려울마을6단지(모아엘가)',           91.9285),\n",
       "            (   '호려울마을6단지(모아엘가)',          126.7313)],\n",
       "           names=['단지명', '전용면적(㎡)'], length=158)"
      ]
     },
     "execution_count": 19,
     "metadata": {
      "tags": []
     },
     "output_type": "execute_result"
    }
   ],
   "source": [
    "del_index"
   ]
  },
  {
   "cell_type": "code",
   "execution_count": 20,
   "metadata": {
    "executionInfo": {
     "elapsed": 9,
     "status": "ok",
     "timestamp": 1621931275136,
     "user": {
      "displayName": "김성언",
      "photoUrl": "",
      "userId": "08359762628877871553"
     },
     "user_tz": -540
    },
    "id": "7CmTaB0AgGgm"
   },
   "outputs": [],
   "source": [
    "data4 = data2.groupby([\"단지명\",\"전용면적(㎡)\",\"계약년월\"]).mean()"
   ]
  },
  {
   "cell_type": "code",
   "execution_count": 21,
   "metadata": {
    "colab": {
     "base_uri": "https://localhost:8080/"
    },
    "executionInfo": {
     "elapsed": 745,
     "status": "ok",
     "timestamp": 1621931275873,
     "user": {
      "displayName": "김성언",
      "photoUrl": "",
      "userId": "08359762628877871553"
     },
     "user_tz": -540
    },
    "id": "rz3Fif9uf679",
    "outputId": "7b5795a2-0aa7-4087-9f90-32183cb9a72b"
   },
   "outputs": [
    {
     "data": {
      "text/plain": [
       "단지명                전용면적(㎡) \n",
       "(주)금강사원임대아파트       32.3200     False\n",
       "                   53.4600     False\n",
       "SR파크센텀             17.8518      True\n",
       "                   19.5794      True\n",
       "                   20.1058      True\n",
       "                               ...  \n",
       "호려울마을8단지(중흥 에코시티)  109.9693     True\n",
       "호수의 아침             17.4250      True\n",
       "                   17.8340      True\n",
       "                   18.1680      True\n",
       "                   19.9330      True\n",
       "Name: 계약년월, Length: 899, dtype: bool"
      ]
     },
     "execution_count": 21,
     "metadata": {
      "tags": []
     },
     "output_type": "execute_result"
    }
   ],
   "source": [
    "data3[\"계약년월\"] != 1"
   ]
  },
  {
   "cell_type": "code",
   "execution_count": 22,
   "metadata": {
    "colab": {
     "base_uri": "https://localhost:8080/",
     "height": 431
    },
    "executionInfo": {
     "elapsed": 28,
     "status": "ok",
     "timestamp": 1621931275875,
     "user": {
      "displayName": "김성언",
      "photoUrl": "",
      "userId": "08359762628877871553"
     },
     "user_tz": -540
    },
    "id": "gAUsi3VVf9zq",
    "outputId": "6d21d5e0-ca50-4dc7-db98-91a1db97edc6"
   },
   "outputs": [
    {
     "data": {
      "text/html": [
       "<div>\n",
       "<style scoped>\n",
       "    .dataframe tbody tr th:only-of-type {\n",
       "        vertical-align: middle;\n",
       "    }\n",
       "\n",
       "    .dataframe tbody tr th {\n",
       "        vertical-align: top;\n",
       "    }\n",
       "\n",
       "    .dataframe thead th {\n",
       "        text-align: right;\n",
       "    }\n",
       "</style>\n",
       "<table border=\"1\" class=\"dataframe\">\n",
       "  <thead>\n",
       "    <tr style=\"text-align: right;\">\n",
       "      <th></th>\n",
       "      <th></th>\n",
       "      <th></th>\n",
       "      <th>거래금액(만원)</th>\n",
       "    </tr>\n",
       "    <tr>\n",
       "      <th>단지명</th>\n",
       "      <th>전용면적(㎡)</th>\n",
       "      <th>계약년월</th>\n",
       "      <th></th>\n",
       "    </tr>\n",
       "  </thead>\n",
       "  <tbody>\n",
       "    <tr>\n",
       "      <th rowspan=\"2\" valign=\"top\">(주)금강사원임대아파트</th>\n",
       "      <th>32.3200</th>\n",
       "      <th>202012</th>\n",
       "      <td>3720.000000</td>\n",
       "    </tr>\n",
       "    <tr>\n",
       "      <th>53.4600</th>\n",
       "      <th>202012</th>\n",
       "      <td>5776.851852</td>\n",
       "    </tr>\n",
       "    <tr>\n",
       "      <th rowspan=\"3\" valign=\"top\">SR파크센텀</th>\n",
       "      <th rowspan=\"3\" valign=\"top\">17.8518</th>\n",
       "      <th>202011</th>\n",
       "      <td>9850.000000</td>\n",
       "    </tr>\n",
       "    <tr>\n",
       "      <th>202103</th>\n",
       "      <td>12200.000000</td>\n",
       "    </tr>\n",
       "    <tr>\n",
       "      <th>202105</th>\n",
       "      <td>10500.000000</td>\n",
       "    </tr>\n",
       "    <tr>\n",
       "      <th>...</th>\n",
       "      <th>...</th>\n",
       "      <th>...</th>\n",
       "      <td>...</td>\n",
       "    </tr>\n",
       "    <tr>\n",
       "      <th rowspan=\"5\" valign=\"top\">호수의 아침</th>\n",
       "      <th rowspan=\"5\" valign=\"top\">19.9330</th>\n",
       "      <th>202101</th>\n",
       "      <td>10700.000000</td>\n",
       "    </tr>\n",
       "    <tr>\n",
       "      <th>202102</th>\n",
       "      <td>12000.000000</td>\n",
       "    </tr>\n",
       "    <tr>\n",
       "      <th>202103</th>\n",
       "      <td>11300.000000</td>\n",
       "    </tr>\n",
       "    <tr>\n",
       "      <th>202104</th>\n",
       "      <td>10833.333333</td>\n",
       "    </tr>\n",
       "    <tr>\n",
       "      <th>202105</th>\n",
       "      <td>11500.000000</td>\n",
       "    </tr>\n",
       "  </tbody>\n",
       "</table>\n",
       "<p>12763 rows × 1 columns</p>\n",
       "</div>"
      ],
      "text/plain": [
       "                                 거래금액(만원)\n",
       "단지명          전용면적(㎡) 계약년월                \n",
       "(주)금강사원임대아파트 32.3200 202012   3720.000000\n",
       "             53.4600 202012   5776.851852\n",
       "SR파크센텀       17.8518 202011   9850.000000\n",
       "                     202103  12200.000000\n",
       "                     202105  10500.000000\n",
       "...                                   ...\n",
       "호수의 아침       19.9330 202101  10700.000000\n",
       "                     202102  12000.000000\n",
       "                     202103  11300.000000\n",
       "                     202104  10833.333333\n",
       "                     202105  11500.000000\n",
       "\n",
       "[12763 rows x 1 columns]"
      ]
     },
     "execution_count": 22,
     "metadata": {
      "tags": []
     },
     "output_type": "execute_result"
    }
   ],
   "source": [
    "data4"
   ]
  },
  {
   "cell_type": "code",
   "execution_count": 23,
   "metadata": {
    "colab": {
     "base_uri": "https://localhost:8080/"
    },
    "executionInfo": {
     "elapsed": 27,
     "status": "ok",
     "timestamp": 1621931275878,
     "user": {
      "displayName": "김성언",
      "photoUrl": "",
      "userId": "08359762628877871553"
     },
     "user_tz": -540
    },
    "id": "z6Qp3-Y-kcWB",
    "outputId": "0f8a39ac-f7e6-48fd-efe2-a39e2452ffca"
   },
   "outputs": [
    {
     "name": "stderr",
     "output_type": "stream",
     "text": [
      "/usr/local/lib/python3.7/dist-packages/ipykernel_launcher.py:1: UserWarning: Boolean Series key will be reindexed to match DataFrame index.\n",
      "  \"\"\"Entry point for launching an IPython kernel.\n"
     ]
    }
   ],
   "source": [
    "data5 = data4[data3[\"계약년월\"] != 1]"
   ]
  },
  {
   "cell_type": "code",
   "execution_count": 24,
   "metadata": {
    "executionInfo": {
     "elapsed": 17,
     "status": "ok",
     "timestamp": 1621931275880,
     "user": {
      "displayName": "김성언",
      "photoUrl": "",
      "userId": "08359762628877871553"
     },
     "user_tz": -540
    },
    "id": "8e3rL_Kqitzv"
   },
   "outputs": [],
   "source": [
    "data5 = pd.DataFrame(index=data4.index)"
   ]
  },
  {
   "cell_type": "code",
   "execution_count": 25,
   "metadata": {
    "colab": {
     "base_uri": "https://localhost:8080/",
     "height": 415
    },
    "executionInfo": {
     "elapsed": 9,
     "status": "ok",
     "timestamp": 1621931276292,
     "user": {
      "displayName": "김성언",
      "photoUrl": "",
      "userId": "08359762628877871553"
     },
     "user_tz": -540
    },
    "id": "tN1dB5z7h_4a",
    "outputId": "f94bec33-c8f3-4282-dd9c-eb85dcaa4b7a"
   },
   "outputs": [
    {
     "data": {
      "text/html": [
       "<div>\n",
       "<style scoped>\n",
       "    .dataframe tbody tr th:only-of-type {\n",
       "        vertical-align: middle;\n",
       "    }\n",
       "\n",
       "    .dataframe tbody tr th {\n",
       "        vertical-align: top;\n",
       "    }\n",
       "\n",
       "    .dataframe thead th {\n",
       "        text-align: right;\n",
       "    }\n",
       "</style>\n",
       "<table border=\"1\" class=\"dataframe\">\n",
       "  <thead>\n",
       "    <tr style=\"text-align: right;\">\n",
       "      <th></th>\n",
       "      <th></th>\n",
       "      <th></th>\n",
       "    </tr>\n",
       "    <tr>\n",
       "      <th>단지명</th>\n",
       "      <th>전용면적(㎡)</th>\n",
       "      <th>계약년월</th>\n",
       "    </tr>\n",
       "  </thead>\n",
       "  <tbody>\n",
       "    <tr>\n",
       "      <th rowspan=\"2\" valign=\"top\">(주)금강사원임대아파트</th>\n",
       "      <th>32.3200</th>\n",
       "      <th>202012</th>\n",
       "    </tr>\n",
       "    <tr>\n",
       "      <th>53.4600</th>\n",
       "      <th>202012</th>\n",
       "    </tr>\n",
       "    <tr>\n",
       "      <th rowspan=\"3\" valign=\"top\">SR파크센텀</th>\n",
       "      <th rowspan=\"3\" valign=\"top\">17.8518</th>\n",
       "      <th>202011</th>\n",
       "    </tr>\n",
       "    <tr>\n",
       "      <th>202103</th>\n",
       "    </tr>\n",
       "    <tr>\n",
       "      <th>202105</th>\n",
       "    </tr>\n",
       "    <tr>\n",
       "      <th>...</th>\n",
       "      <th>...</th>\n",
       "      <th>...</th>\n",
       "    </tr>\n",
       "    <tr>\n",
       "      <th rowspan=\"5\" valign=\"top\">호수의 아침</th>\n",
       "      <th rowspan=\"5\" valign=\"top\">19.9330</th>\n",
       "      <th>202101</th>\n",
       "    </tr>\n",
       "    <tr>\n",
       "      <th>202102</th>\n",
       "    </tr>\n",
       "    <tr>\n",
       "      <th>202103</th>\n",
       "    </tr>\n",
       "    <tr>\n",
       "      <th>202104</th>\n",
       "    </tr>\n",
       "    <tr>\n",
       "      <th>202105</th>\n",
       "    </tr>\n",
       "  </tbody>\n",
       "</table>\n",
       "<p>12763 rows × 0 columns</p>\n",
       "</div>"
      ],
      "text/plain": [
       "Empty DataFrame\n",
       "Columns: []\n",
       "Index: [((주)금강사원임대아파트, 32.32, 202012), ((주)금강사원임대아파트, 53.46, 202012), (SR파크센텀, 17.8518, 202011), (SR파크센텀, 17.8518, 202103), (SR파크센텀, 17.8518, 202105), (SR파크센텀, 19.5794, 202008), (SR파크센텀, 19.5794, 202011), (SR파크센텀, 19.5794, 202103), (SR파크센텀, 19.5794, 202104), (SR파크센텀, 20.1058, 202007), (SR파크센텀, 20.1058, 202009), (SR파크센텀, 20.1058, 202101), (SR파크센텀, 20.1058, 202103), (SR파크센텀, 20.1058, 202105), (SR파크센텀, 20.1536, 202102), (SR파크센텀, 20.1536, 202103), (SR파크센텀, 20.8816, 202103), (SR파크센텀, 21.5812, 202009), (SR파크센텀, 21.5812, 202102), (SR파크센텀, 23.4973, 202005), (SR파크센텀, 23.4973, 202101), (가락마을 19단지, 59.6506, 201906), (가락마을 19단지, 59.6506, 201908), (가락마을 19단지, 59.6506, 201911), (가락마을 19단지, 59.6506, 201912), (가락마을 19단지, 59.6506, 202002), (가락마을 19단지, 59.6506, 202003), (가락마을 19단지, 59.6506, 202007), (가락마을 19단지, 59.6506, 202008), (가락마을 19단지, 59.6506, 202011), (가락마을 19단지, 59.6506, 202012), (가락마을 19단지, 59.6506, 202101), (가락마을 19단지, 59.6506, 202102), (가락마을 19단지, 59.6506, 202103), (가락마을 19단지, 59.6506, 202104), (가락마을 19단지, 59.6506, 202105), (가락마을 19단지, 64.1716, 202002), (가락마을 19단지, 84.6663, 201907), (가락마을 19단지, 84.6663, 202007), (가락마을 19단지, 84.6663, 202009), (가락마을 19단지, 84.6972, 201912), (가락마을 19단지, 84.6972, 202007), (가락마을 19단지, 84.8632, 201912), (가락마을 19단지, 84.88600000000002, 202006), (가락마을 19단지, 84.9544, 201905), (가락마을 19단지, 84.9544, 201906), (가락마을 19단지, 84.9544, 201907), (가락마을 19단지, 84.9544, 201911), (가락마을 19단지, 84.9544, 201912), (가락마을 19단지, 84.9544, 202001), (가락마을 19단지, 84.9544, 202002), (가락마을 19단지, 84.9544, 202003), (가락마을 19단지, 84.9544, 202005), (가락마을 19단지, 84.9544, 202006), (가락마을 19단지, 84.9544, 202007), (가락마을 19단지, 84.9544, 202008), (가락마을 19단지, 105.6138, 201905), (가락마을 19단지, 105.6138, 201906), (가락마을 19단지, 105.6138, 201908), (가락마을 19단지, 105.6138, 201909), (가락마을 19단지, 105.6138, 201911), (가락마을 19단지, 105.6138, 201912), (가락마을 19단지, 105.6138, 202004), (가락마을 19단지, 105.6138, 202006), (가락마을 19단지, 105.6138, 202008), (가락마을 19단지, 105.6138, 202011), (가락마을 19단지, 105.6138, 202012), (가락마을 19단지, 105.6138, 202103), (가락마을 19단지, 105.7788, 201908), (가락마을 19단지, 105.7788, 201912), (가락마을 19단지, 105.7788, 202008), (가락마을 19단지, 105.7788, 202105), (가락마을 19단지, 125.0123, 201906), (가락마을 19단지, 125.0123, 201907), (가락마을 20단지(호반베르디움5차), 59.8338, 201608), (가락마을 20단지(호반베르디움5차), 59.8338, 201706), (가락마을 20단지(호반베르디움5차), 59.8338, 201712), (가락마을 20단지(호반베르디움5차), 59.8338, 201801), (가락마을 20단지(호반베르디움5차), 59.8338, 201804), (가락마을 20단지(호반베르디움5차), 59.8338, 201809), (가락마을 20단지(호반베르디움5차), 59.8338, 201811), (가락마을 20단지(호반베르디움5차), 59.8338, 201907), (가락마을 20단지(호반베르디움5차), 59.8338, 201908), (가락마을 20단지(호반베르디움5차), 59.8338, 201912), (가락마을 20단지(호반베르디움5차), 59.8338, 202001), (가락마을 20단지(호반베르디움5차), 59.8338, 202002), (가락마을 20단지(호반베르디움5차), 59.8338, 202005), (가락마을 20단지(호반베르디움5차), 59.8338, 202006), (가락마을 20단지(호반베르디움5차), 59.8338, 202007), (가락마을 20단지(호반베르디움5차), 59.8338, 202008), (가락마을 20단지(호반베르디움5차), 59.8338, 202009), (가락마을 20단지(호반베르디움5차), 59.8338, 202012), (가락마을 20단지(호반베르디움5차), 59.8338, 202101), (가락마을 20단지(호반베르디움5차), 59.8338, 202102), (가락마을 20단지(호반베르디움5차), 59.8338, 202104), (가락마을 20단지(호반베르디움5차), 59.9897, 201612), (가락마을 20단지(호반베르디움5차), 59.9897, 201704), (가락마을 20단지(호반베르디움5차), 59.9897, 201706), (가락마을 20단지(호반베르디움5차), 59.9897, 201707), (가락마을 20단지(호반베르디움5차), 59.9897, 201801), ...]\n",
       "\n",
       "[12763 rows x 0 columns]"
      ]
     },
     "execution_count": 25,
     "metadata": {
      "tags": []
     },
     "output_type": "execute_result"
    }
   ],
   "source": [
    "data5"
   ]
  },
  {
   "cell_type": "code",
   "execution_count": 26,
   "metadata": {
    "colab": {
     "base_uri": "https://localhost:8080/"
    },
    "executionInfo": {
     "elapsed": 9,
     "status": "ok",
     "timestamp": 1621931276671,
     "user": {
      "displayName": "김성언",
      "photoUrl": "",
      "userId": "08359762628877871553"
     },
     "user_tz": -540
    },
    "id": "53bY549DoghS",
    "outputId": "4f434ccb-e948-437e-dc34-68ce2b82d298"
   },
   "outputs": [
    {
     "data": {
      "text/plain": [
       "array([[0., 0., 0., ..., 0., 0., 0.],\n",
       "       [0., 0., 0., ..., 0., 0., 0.],\n",
       "       [0., 0., 0., ..., 0., 0., 0.],\n",
       "       ...,\n",
       "       [0., 0., 0., ..., 0., 0., 0.],\n",
       "       [0., 0., 0., ..., 0., 0., 0.],\n",
       "       [0., 0., 0., ..., 0., 0., 0.]])"
      ]
     },
     "execution_count": 26,
     "metadata": {
      "tags": []
     },
     "output_type": "execute_result"
    }
   ],
   "source": [
    "X = np.zeros([10878,59])\n",
    "X"
   ]
  },
  {
   "cell_type": "code",
   "execution_count": 27,
   "metadata": {
    "colab": {
     "base_uri": "https://localhost:8080/"
    },
    "executionInfo": {
     "elapsed": 8,
     "status": "ok",
     "timestamp": 1621931276672,
     "user": {
      "displayName": "김성언",
      "photoUrl": "",
      "userId": "08359762628877871553"
     },
     "user_tz": -540
    },
    "id": "yerpUaQUpbPd",
    "outputId": "81d15042-4036-4471-aeda-75f58ca55486"
   },
   "outputs": [
    {
     "data": {
      "text/plain": [
       "Int64Index([202008, 202011, 202103, 202104], dtype='int64', name='계약년월')"
      ]
     },
     "execution_count": 27,
     "metadata": {
      "tags": []
     },
     "output_type": "execute_result"
    }
   ],
   "source": [
    "data5.loc[(\"SR파크센텀\",19.5794)].index"
   ]
  },
  {
   "cell_type": "code",
   "execution_count": 28,
   "metadata": {
    "executionInfo": {
     "elapsed": 13,
     "status": "ok",
     "timestamp": 1621931276992,
     "user": {
      "displayName": "김성언",
      "photoUrl": "",
      "userId": "08359762628877871553"
     },
     "user_tz": -540
    },
    "id": "4-uNdZJEqUjX"
   },
   "outputs": [],
   "source": [
    "col_dict = {201602 : 0,\n",
    "201603 : 1,\n",
    "201604 : 2,\n",
    "201605 : 3,\n",
    "201606 : 4,\n",
    "201607 : 5,\n",
    "201608 : 6,\n",
    "201609 : 7,\n",
    "201610 : 8,\n",
    "201611 : 9,\n",
    "201612 : 10,\n",
    "201701 : 11,\n",
    "201702 : 12,\n",
    "201703 : 13,\n",
    "201704 : 14,\n",
    "201705 : 15,\n",
    "201706 : 16,\n",
    "201707 : 17,\n",
    "201708 : 18,\n",
    "201709 : 19,\n",
    "201710 : 20,\n",
    "201711 : 21,\n",
    "201712 : 22,\n",
    "201801 : 23,\n",
    "201802 : 24,\n",
    "201803 : 25,\n",
    "201804 : 26,\n",
    "201805 : 27,\n",
    "201806 : 28,\n",
    "201807 : 29,\n",
    "201808 : 30,\n",
    "201809 : 31,\n",
    "201810 : 32,\n",
    "201811 : 33,\n",
    "201812 : 34,\n",
    "201901 : 35,\n",
    "201902 : 36,\n",
    "201903 : 37,\n",
    "201904 : 38,\n",
    "201905 : 39,\n",
    "201906 : 40,\n",
    "201907 : 41,\n",
    "201908 : 42,\n",
    "201909 : 43,\n",
    "201910 : 44,\n",
    "201911 : 45,\n",
    "201912 : 46,\n",
    "202001 : 47,\n",
    "202002 : 48,\n",
    "202003 : 49,\n",
    "202004 : 50,\n",
    "202005 : 51,\n",
    "202006 : 52,\n",
    "202007 : 53,\n",
    "202008 : 54,\n",
    "202009 : 55,\n",
    "202010 : 56,\n",
    "202011 : 57,\n",
    "202012 : 58,\n",
    "202101 : 59,\n",
    "202102 : 60,\n",
    "202103 : 61,\n",
    "202104 : 62,\n",
    "202105 : 63}"
   ]
  },
  {
   "cell_type": "code",
   "execution_count": 29,
   "metadata": {
    "colab": {
     "base_uri": "https://localhost:8080/"
    },
    "executionInfo": {
     "elapsed": 12,
     "status": "ok",
     "timestamp": 1621931276993,
     "user": {
      "displayName": "김성언",
      "photoUrl": "",
      "userId": "08359762628877871553"
     },
     "user_tz": -540
    },
    "id": "vKFGZIEpqgn6",
    "outputId": "42965469-5b1b-4217-abf8-f2d79bd227fa"
   },
   "outputs": [
    {
     "name": "stdout",
     "output_type": "stream",
     "text": [
      "20162 : 0,\n",
      "20163 : 1,\n",
      "20164 : 2,\n",
      "20165 : 3,\n",
      "20166 : 4,\n",
      "20167 : 5,\n",
      "20168 : 6,\n",
      "20169 : 7,\n",
      "201610 : 8,\n",
      "201611 : 9,\n",
      "201612 : 10,\n",
      "20171 : 11,\n",
      "20172 : 12,\n",
      "20173 : 13,\n",
      "20174 : 14,\n",
      "20175 : 15,\n",
      "20176 : 16,\n",
      "20177 : 17,\n",
      "20178 : 18,\n",
      "20179 : 19,\n",
      "201710 : 20,\n",
      "201711 : 21,\n",
      "201712 : 22,\n",
      "20181 : 23,\n",
      "20182 : 24,\n",
      "20183 : 25,\n",
      "20184 : 26,\n",
      "20185 : 27,\n",
      "20186 : 28,\n",
      "20187 : 29,\n",
      "20188 : 30,\n",
      "20189 : 31,\n",
      "201810 : 32,\n",
      "201811 : 33,\n",
      "201812 : 34,\n",
      "20191 : 35,\n",
      "20192 : 36,\n",
      "20193 : 37,\n",
      "20194 : 38,\n",
      "20195 : 39,\n",
      "20196 : 40,\n",
      "20197 : 41,\n",
      "20198 : 42,\n",
      "20199 : 43,\n",
      "201910 : 44,\n",
      "201911 : 45,\n",
      "201912 : 46,\n",
      "20201 : 47,\n",
      "20202 : 48,\n",
      "20203 : 49,\n",
      "20204 : 50,\n",
      "20205 : 51,\n",
      "20206 : 52,\n",
      "20207 : 53,\n",
      "20208 : 54,\n",
      "20209 : 55,\n",
      "202010 : 56,\n",
      "202011 : 57,\n",
      "202012 : 58,\n",
      "20211 : 59,\n",
      "20212 : 60,\n",
      "20213 : 61,\n",
      "20214 : 62,\n",
      "20215 : 63,\n"
     ]
    }
   ],
   "source": [
    "y = 2016\n",
    "m = 2\n",
    "for i in range(64):\n",
    "  print(str(y) + str(m) + \" : \" + str(i) + \",\")\n",
    "  m += 1\n",
    "  if(m==13):\n",
    "    m = 1\n",
    "    y += 1"
   ]
  },
  {
   "cell_type": "code",
   "execution_count": 30,
   "metadata": {
    "colab": {
     "base_uri": "https://localhost:8080/"
    },
    "executionInfo": {
     "elapsed": 10,
     "status": "ok",
     "timestamp": 1621931277829,
     "user": {
      "displayName": "김성언",
      "photoUrl": "",
      "userId": "08359762628877871553"
     },
     "user_tz": -540
    },
    "id": "0MNtt_Llsz_s",
    "outputId": "9ab6af5d-b3d8-4835-d2f1-ce5a2b219887"
   },
   "outputs": [
    {
     "data": {
      "text/plain": [
       "MultiIndex([(           'SR파크센텀',  17.8518),\n",
       "            (           'SR파크센텀',  19.5794),\n",
       "            (           'SR파크센텀',  20.1058),\n",
       "            (           'SR파크센텀',  20.1536),\n",
       "            (           'SR파크센텀',  21.5812),\n",
       "            (           'SR파크센텀',  23.4973),\n",
       "            (        '가락마을 19단지',  59.6506),\n",
       "            (        '가락마을 19단지',  84.6663),\n",
       "            (        '가락마을 19단지',  84.6972),\n",
       "            (        '가락마을 19단지',  84.9544),\n",
       "            ...\n",
       "            (   '호려울마을6단지(모아엘가)', 117.0336),\n",
       "            (   '호려울마을6단지(모아엘가)', 118.4815),\n",
       "            ('호려울마을8단지(중흥 에코시티)',  84.9895),\n",
       "            ('호려울마을8단지(중흥 에코시티)',  84.9901),\n",
       "            ('호려울마을8단지(중흥 에코시티)',  98.9982),\n",
       "            ('호려울마을8단지(중흥 에코시티)', 109.9693),\n",
       "            (           '호수의 아침',   17.425),\n",
       "            (           '호수의 아침',   17.834),\n",
       "            (           '호수의 아침',   18.168),\n",
       "            (           '호수의 아침',   19.933)],\n",
       "           names=['단지명', '전용면적(㎡)'], length=741)"
      ]
     },
     "execution_count": 30,
     "metadata": {
      "tags": []
     },
     "output_type": "execute_result"
    }
   ],
   "source": [
    "index"
   ]
  },
  {
   "cell_type": "code",
   "execution_count": 31,
   "metadata": {
    "colab": {
     "base_uri": "https://localhost:8080/"
    },
    "executionInfo": {
     "elapsed": 12,
     "status": "ok",
     "timestamp": 1621931278140,
     "user": {
      "displayName": "김성언",
      "photoUrl": "",
      "userId": "08359762628877871553"
     },
     "user_tz": -540
    },
    "id": "DqxWnKJMswmA",
    "outputId": "998f4610-831c-431f-f3be-9e2f36571092"
   },
   "outputs": [
    {
     "data": {
      "text/plain": [
       "57"
      ]
     },
     "execution_count": 31,
     "metadata": {
      "tags": []
     },
     "output_type": "execute_result"
    }
   ],
   "source": [
    "col_dict[data5.loc[(             'SR파크센텀',  19.5794)].index[1]]"
   ]
  },
  {
   "cell_type": "code",
   "execution_count": 32,
   "metadata": {
    "colab": {
     "base_uri": "https://localhost:8080/",
     "height": 431
    },
    "executionInfo": {
     "elapsed": 365,
     "status": "ok",
     "timestamp": 1621931278496,
     "user": {
      "displayName": "김성언",
      "photoUrl": "",
      "userId": "08359762628877871553"
     },
     "user_tz": -540
    },
    "id": "N_j26rFjePBl",
    "outputId": "2092a274-a82c-4c49-adab-357aa7d4843d"
   },
   "outputs": [
    {
     "data": {
      "text/html": [
       "<div>\n",
       "<style scoped>\n",
       "    .dataframe tbody tr th:only-of-type {\n",
       "        vertical-align: middle;\n",
       "    }\n",
       "\n",
       "    .dataframe tbody tr th {\n",
       "        vertical-align: top;\n",
       "    }\n",
       "\n",
       "    .dataframe thead th {\n",
       "        text-align: right;\n",
       "    }\n",
       "</style>\n",
       "<table border=\"1\" class=\"dataframe\">\n",
       "  <thead>\n",
       "    <tr style=\"text-align: right;\">\n",
       "      <th></th>\n",
       "      <th></th>\n",
       "      <th></th>\n",
       "      <th>거래금액(만원)</th>\n",
       "    </tr>\n",
       "    <tr>\n",
       "      <th>단지명</th>\n",
       "      <th>전용면적(㎡)</th>\n",
       "      <th>계약년월</th>\n",
       "      <th></th>\n",
       "    </tr>\n",
       "  </thead>\n",
       "  <tbody>\n",
       "    <tr>\n",
       "      <th rowspan=\"5\" valign=\"top\">SR파크센텀</th>\n",
       "      <th rowspan=\"3\" valign=\"top\">17.8518</th>\n",
       "      <th>202011</th>\n",
       "      <td>9850.000000</td>\n",
       "    </tr>\n",
       "    <tr>\n",
       "      <th>202103</th>\n",
       "      <td>12200.000000</td>\n",
       "    </tr>\n",
       "    <tr>\n",
       "      <th>202105</th>\n",
       "      <td>10500.000000</td>\n",
       "    </tr>\n",
       "    <tr>\n",
       "      <th rowspan=\"2\" valign=\"top\">19.5794</th>\n",
       "      <th>202008</th>\n",
       "      <td>8600.000000</td>\n",
       "    </tr>\n",
       "    <tr>\n",
       "      <th>202011</th>\n",
       "      <td>9950.000000</td>\n",
       "    </tr>\n",
       "    <tr>\n",
       "      <th>...</th>\n",
       "      <th>...</th>\n",
       "      <th>...</th>\n",
       "      <td>...</td>\n",
       "    </tr>\n",
       "    <tr>\n",
       "      <th rowspan=\"5\" valign=\"top\">호수의 아침</th>\n",
       "      <th rowspan=\"5\" valign=\"top\">19.9330</th>\n",
       "      <th>202101</th>\n",
       "      <td>10700.000000</td>\n",
       "    </tr>\n",
       "    <tr>\n",
       "      <th>202102</th>\n",
       "      <td>12000.000000</td>\n",
       "    </tr>\n",
       "    <tr>\n",
       "      <th>202103</th>\n",
       "      <td>11300.000000</td>\n",
       "    </tr>\n",
       "    <tr>\n",
       "      <th>202104</th>\n",
       "      <td>10833.333333</td>\n",
       "    </tr>\n",
       "    <tr>\n",
       "      <th>202105</th>\n",
       "      <td>11500.000000</td>\n",
       "    </tr>\n",
       "  </tbody>\n",
       "</table>\n",
       "<p>12605 rows × 1 columns</p>\n",
       "</div>"
      ],
      "text/plain": [
       "                           거래금액(만원)\n",
       "단지명    전용면적(㎡) 계약년월                \n",
       "SR파크센텀 17.8518 202011   9850.000000\n",
       "               202103  12200.000000\n",
       "               202105  10500.000000\n",
       "       19.5794 202008   8600.000000\n",
       "               202011   9950.000000\n",
       "...                             ...\n",
       "호수의 아침 19.9330 202101  10700.000000\n",
       "               202102  12000.000000\n",
       "               202103  11300.000000\n",
       "               202104  10833.333333\n",
       "               202105  11500.000000\n",
       "\n",
       "[12605 rows x 1 columns]"
      ]
     },
     "execution_count": 32,
     "metadata": {
      "tags": []
     },
     "output_type": "execute_result"
    }
   ],
   "source": [
    "data7 = data4.drop(index=del_index)\n",
    "data7"
   ]
  },
  {
   "cell_type": "code",
   "execution_count": 33,
   "metadata": {
    "colab": {
     "base_uri": "https://localhost:8080/"
    },
    "executionInfo": {
     "elapsed": 27160,
     "status": "ok",
     "timestamp": 1621931305646,
     "user": {
      "displayName": "김성언",
      "photoUrl": "",
      "userId": "08359762628877871553"
     },
     "user_tz": -540
    },
    "id": "Hb-5LuqOIFwL",
    "outputId": "5712dad6-e335-4ecd-e6a8-47ffbd351aeb"
   },
   "outputs": [
    {
     "data": {
      "text/plain": [
       "11864"
      ]
     },
     "execution_count": 33,
     "metadata": {
      "tags": []
     },
     "output_type": "execute_result"
    }
   ],
   "source": [
    "# 반복매매지수 추정을 위한 행렬 X, Y 정의\n",
    "X = np.zeros([11864,64])\n",
    "Y = []\n",
    "cnt = 0\n",
    "for idx in index:\n",
    "  for l_idx in range(len(data7.loc[idx].index) - 1) :\n",
    "    if(data7.loc[idx].index[l_idx] != 201601):\n",
    "      X[cnt][col_dict[data7.loc[idx].index[l_idx]]] = -1\n",
    "    X[cnt][col_dict[data7.loc[idx].index[l_idx + 1]]] = 1\n",
    "    Y.append(np.log(data7.loc[idx + (data7.loc[idx].index[l_idx + 1],)][\"거래금액(만원)\"] / data7.loc[idx + (data7.loc[idx].index[l_idx],)][\"거래금액(만원)\"]))\n",
    "\n",
    "    cnt += 1\n",
    "cnt"
   ]
  },
  {
   "cell_type": "markdown",
   "metadata": {
    "id": "4omP9EIXw7oU"
   },
   "source": [
    "### **반복매매지수를 최소제곱법으로 추정**\n",
    "\n",
    "##### 코드에서 X는 아래 식에서 D, Y는 r 행렬에 해당한다"
   ]
  },
  {
   "cell_type": "markdown",
   "metadata": {
    "id": "rRZWghSbvwJ_"
   },
   "source": [
    "![반복.png](data:image/png;base64,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)"
   ]
  },
  {
   "cell_type": "code",
   "execution_count": 34,
   "metadata": {
    "colab": {
     "base_uri": "https://localhost:8080/"
    },
    "executionInfo": {
     "elapsed": 37,
     "status": "ok",
     "timestamp": 1621931305649,
     "user": {
      "displayName": "김성언",
      "photoUrl": "",
      "userId": "08359762628877871553"
     },
     "user_tz": -540
    },
    "id": "jX4AurkVIrt3",
    "outputId": "530df488-9af5-42fa-8400-10bc2a0e132f"
   },
   "outputs": [
    {
     "data": {
      "text/plain": [
       "11864"
      ]
     },
     "execution_count": 34,
     "metadata": {
      "tags": []
     },
     "output_type": "execute_result"
    }
   ],
   "source": [
    "len(X)"
   ]
  },
  {
   "cell_type": "code",
   "execution_count": 35,
   "metadata": {
    "colab": {
     "base_uri": "https://localhost:8080/"
    },
    "executionInfo": {
     "elapsed": 35,
     "status": "ok",
     "timestamp": 1621931305650,
     "user": {
      "displayName": "김성언",
      "photoUrl": "",
      "userId": "08359762628877871553"
     },
     "user_tz": -540
    },
    "id": "KvvYzUdtL0hi",
    "outputId": "32942c55-55cd-4597-a22a-90a05845027a"
   },
   "outputs": [
    {
     "data": {
      "text/plain": [
       "11864"
      ]
     },
     "execution_count": 35,
     "metadata": {
      "tags": []
     },
     "output_type": "execute_result"
    }
   ],
   "source": [
    "len(Y)"
   ]
  },
  {
   "cell_type": "code",
   "execution_count": 36,
   "metadata": {
    "colab": {
     "base_uri": "https://localhost:8080/"
    },
    "executionInfo": {
     "elapsed": 32,
     "status": "ok",
     "timestamp": 1621931305650,
     "user": {
      "displayName": "김성언",
      "photoUrl": "",
      "userId": "08359762628877871553"
     },
     "user_tz": -540
    },
    "id": "c37Qj2xzoLEI",
    "outputId": "34dec3a4-f0e2-405c-9cd4-b1f299fa7407"
   },
   "outputs": [
    {
     "data": {
      "text/plain": [
       "array([[ 0.,  0.,  0., ...,  1.,  0.,  0.],\n",
       "       [ 0.,  0.,  0., ..., -1.,  0.,  1.],\n",
       "       [ 0.,  0.,  0., ...,  0.,  0.,  0.],\n",
       "       ...,\n",
       "       [ 0.,  0.,  0., ...,  1.,  0.,  0.],\n",
       "       [ 0.,  0.,  0., ..., -1.,  1.,  0.],\n",
       "       [ 0.,  0.,  0., ...,  0., -1.,  1.]])"
      ]
     },
     "execution_count": 36,
     "metadata": {
      "tags": []
     },
     "output_type": "execute_result"
    }
   ],
   "source": [
    "X"
   ]
  },
  {
   "cell_type": "code",
   "execution_count": 37,
   "metadata": {
    "executionInfo": {
     "elapsed": 29,
     "status": "ok",
     "timestamp": 1621931305651,
     "user": {
      "displayName": "김성언",
      "photoUrl": "",
      "userId": "08359762628877871553"
     },
     "user_tz": -540
    },
    "id": "nb2mYlwxkEyu"
   },
   "outputs": [],
   "source": [
    "# 반복매매지수 추정 \n",
    "a = (np.linalg.inv(np.transpose(X) @ X) @ np.transpose(X))\n",
    "jisu = a @ Y"
   ]
  },
  {
   "cell_type": "code",
   "execution_count": 38,
   "metadata": {
    "colab": {
     "base_uri": "https://localhost:8080/",
     "height": 282
    },
    "executionInfo": {
     "elapsed": 30,
     "status": "ok",
     "timestamp": 1621931305652,
     "user": {
      "displayName": "김성언",
      "photoUrl": "",
      "userId": "08359762628877871553"
     },
     "user_tz": -540
    },
    "id": "E6qTsUVkMg8G",
    "outputId": "fc213a1b-3ec2-4c7b-e6b0-fa2d2a9c8f4d"
   },
   "outputs": [
    {
     "data": {
      "text/plain": [
       "<matplotlib.collections.PathCollection at 0x7f79c2c8e550>"
      ]
     },
     "execution_count": 38,
     "metadata": {
      "tags": []
     },
     "output_type": "execute_result"
    },
    {
     "data": {
      "image/png": "[encoded data removed]",
      "text/plain": [
       "<Figure size 432x288 with 1 Axes>"
      ]
     },
     "metadata": {
      "needs_background": "light",
      "tags": []
     },
     "output_type": "display_data"
    }
   ],
   "source": [
    "# 2016년 1월 기준(100) 2020년 12월까지의 지수\n",
    "plt.scatter(x=range(len(jisu)), y=np.exp(jisu)*100)"
   ]
  },
  {
   "cell_type": "code",
   "execution_count": 39,
   "metadata": {
    "executionInfo": {
     "elapsed": 18,
     "status": "ok",
     "timestamp": 1621931305653,
     "user": {
      "displayName": "김성언",
      "photoUrl": "",
      "userId": "08359762628877871553"
     },
     "user_tz": -540
    },
    "id": "CJQpIZDNplcL"
   },
   "outputs": [],
   "source": [
    "j = np.append(np.array([1]),np.exp(jisu))"
   ]
  },
  {
   "cell_type": "code",
   "execution_count": 40,
   "metadata": {
    "colab": {
     "base_uri": "https://localhost:8080/"
    },
    "executionInfo": {
     "elapsed": 18,
     "status": "ok",
     "timestamp": 1621931305654,
     "user": {
      "displayName": "김성언",
      "photoUrl": "",
      "userId": "08359762628877871553"
     },
     "user_tz": -540
    },
    "id": "ierFViBlZ-ME",
    "outputId": "dd691282-0c5a-4285-af8b-42dae6dfdd66"
   },
   "outputs": [
    {
     "data": {
      "text/plain": [
       "65"
      ]
     },
     "execution_count": 40,
     "metadata": {
      "tags": []
     },
     "output_type": "execute_result"
    }
   ],
   "source": [
    "len(j)"
   ]
  },
  {
   "cell_type": "code",
   "execution_count": 41,
   "metadata": {
    "colab": {
     "base_uri": "https://localhost:8080/"
    },
    "executionInfo": {
     "elapsed": 7,
     "status": "ok",
     "timestamp": 1621931305986,
     "user": {
      "displayName": "김성언",
      "photoUrl": "",
      "userId": "08359762628877871553"
     },
     "user_tz": -540
    },
    "id": "LsyfrtK2aqQa",
    "outputId": "51d39d22-ee4d-4900-9de8-75351b0763a2"
   },
   "outputs": [
    {
     "data": {
      "text/plain": [
       "65"
      ]
     },
     "execution_count": 41,
     "metadata": {
      "tags": []
     },
     "output_type": "execute_result"
    }
   ],
   "source": [
    "len(data2[\"계약년월\"].unique())"
   ]
  },
  {
   "cell_type": "code",
   "execution_count": 46,
   "metadata": {
    "executionInfo": {
     "elapsed": 308,
     "status": "ok",
     "timestamp": 1621931746582,
     "user": {
      "displayName": "김성언",
      "photoUrl": "",
      "userId": "08359762628877871553"
     },
     "user_tz": -540
    },
    "id": "wG924PeuZTA8"
   },
   "outputs": [],
   "source": [
    "exp_data = pd.DataFrame(columns=[\"계약년월\",\"반복매매지수\"],\n",
    "             data={\"계약년월\":data2[\"계약년월\"].unique(),\"반복매매지수\":j})"
   ]
  },
  {
   "cell_type": "code",
   "execution_count": 47,
   "metadata": {
    "executionInfo": {
     "elapsed": 4,
     "status": "ok",
     "timestamp": 1621931747617,
     "user": {
      "displayName": "김성언",
      "photoUrl": "",
      "userId": "08359762628877871553"
     },
     "user_tz": -540
    },
    "id": "3dbNiIZQZzcu"
   },
   "outputs": [],
   "source": [
    "exp_data.to_csv(\"/content/drive/MyDrive/태블로공유폴더/작업/아파트 상세정보   실거래가 데이터/반복매매지수.csv\", index = False)"
   ]
  },
  {
   "cell_type": "code",
   "execution_count": null,
   "metadata": {
    "id": "pDcHjVGspC1K"
   },
   "outputs": [],
   "source": []
  }
 ],
 "metadata": {
  "colab": {
   "collapsed_sections": [],
   "name": "반복매매지수.ipynb",
   "provenance": [],
   "toc_visible": true
  },
  "kernelspec": {
   "display_name": "Python 3",
   "language": "python",
   "name": "python3"
  },
  "language_info": {
   "codemirror_mode": {
    "name": "ipython",
    "version": 3
   },
   "file_extension": ".py",
   "mimetype": "text/x-python",
   "name": "python",
   "nbconvert_exporter": "python",
   "pygments_lexer": "ipython3",
   "version": "3.7.3"
  }
 },
 "nbformat": 4,
 "nbformat_minor": 1
}
