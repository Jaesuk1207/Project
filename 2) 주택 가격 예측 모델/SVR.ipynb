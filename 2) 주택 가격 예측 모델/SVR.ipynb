{
 "cells": [
  {
   "cell_type": "markdown",
   "metadata": {
    "id": "ScR7H4Y8EbFg"
   },
   "source": [
    "# SVR\n",
    "\n",
    " - train set : test set = 0.7 : 0.3\n",
    " \n",
    " - parameter \n",
    " c = 10\n",
    " eplison = 0.1\n",
    "\n",
    " "
   ]
  },
  {
   "cell_type": "code",
   "execution_count": null,
   "metadata": {
    "colab": {
     "base_uri": "https://localhost:8080/"
    },
    "executionInfo": {
     "elapsed": 1876,
     "status": "ok",
     "timestamp": 1622473989890,
     "user": {
      "displayName": "김성언",
      "photoUrl": "",
      "userId": "08359762628877871553"
     },
     "user_tz": -540
    },
    "id": "dSLcM0vEDMDx",
    "outputId": "e7ab0bec-4382-414b-eaba-a8b441593792"
   },
   "outputs": [
    {
     "name": "stderr",
     "output_type": "stream",
     "text": [
      "/usr/local/lib/python3.7/dist-packages/statsmodels/tools/_testing.py:19: FutureWarning: pandas.util.testing is deprecated. Use the functions in the public API at pandas.testing instead.\n",
      "  import pandas.util.testing as tm\n"
     ]
    }
   ],
   "source": [
    "import numpy as np\n",
    "from sklearn import datasets\n",
    "from sklearn.svm import LinearSVR\n",
    "from sklearn.svm import SVR\n",
    "from sklearn.metrics import mean_squared_error, explained_variance_score\n",
    "from sklearn.utils import shuffle\n",
    "import pandas as pd\n",
    "import statsmodels.api as sm\n",
    "from sklearn.model_selection import train_test_split\n",
    "import matplotlib.pyplot as plt\n",
    "from sklearn.feature_selection import SelectFromModel"
   ]
  },
  {
   "cell_type": "code",
   "execution_count": null,
   "metadata": {
    "colab": {
     "base_uri": "https://localhost:8080/"
    },
    "executionInfo": {
     "elapsed": 16407,
     "status": "ok",
     "timestamp": 1622473954147,
     "user": {
      "displayName": "김성언",
      "photoUrl": "",
      "userId": "08359762628877871553"
     },
     "user_tz": -540
    },
    "id": "q9ItwninzF9e",
    "outputId": "4c4e190b-8a25-4432-bbe0-576523890cdb"
   },
   "outputs": [
    {
     "name": "stdout",
     "output_type": "stream",
     "text": [
      "Mounted at /content/drive\n"
     ]
    }
   ],
   "source": [
    "from google.colab import drive\n",
    "drive.mount('/content/drive')"
   ]
  },
  {
   "cell_type": "code",
   "execution_count": null,
   "metadata": {
    "colab": {
     "base_uri": "https://localhost:8080/",
     "height": 186
    },
    "executionInfo": {
     "elapsed": 921,
     "status": "ok",
     "timestamp": 1622473991357,
     "user": {
      "displayName": "김성언",
      "photoUrl": "",
      "userId": "08359762628877871553"
     },
     "user_tz": -540
    },
    "id": "raX5oDgAkSPu",
    "outputId": "0026d87e-b053-4d5a-cd46-bd84ecfe9aa9"
   },
   "outputs": [
    {
     "data": {
      "text/html": [
       "<div>\n",
       "<style scoped>\n",
       "    .dataframe tbody tr th:only-of-type {\n",
       "        vertical-align: middle;\n",
       "    }\n",
       "\n",
       "    .dataframe tbody tr th {\n",
       "        vertical-align: top;\n",
       "    }\n",
       "\n",
       "    .dataframe thead th {\n",
       "        text-align: right;\n",
       "    }\n",
       "</style>\n",
       "<table border=\"1\" class=\"dataframe\">\n",
       "  <thead>\n",
       "    <tr style=\"text-align: right;\">\n",
       "      <th></th>\n",
       "      <th>난방방식</th>\n",
       "      <th>연면적</th>\n",
       "      <th>동수</th>\n",
       "      <th>복도유형</th>\n",
       "      <th>주거전용면적</th>\n",
       "      <th>주차관제</th>\n",
       "      <th>총세대수</th>\n",
       "      <th>용적률</th>\n",
       "      <th>건폐율</th>\n",
       "      <th>저층</th>\n",
       "      <th>고층</th>\n",
       "      <th>전용면적</th>\n",
       "      <th>거래시아파트나이</th>\n",
       "      <th>계약년월</th>\n",
       "      <th>세대당주차대수</th>\n",
       "      <th>생활권1</th>\n",
       "      <th>생활권2</th>\n",
       "      <th>생활권3</th>\n",
       "      <th>생활권4</th>\n",
       "      <th>기타</th>\n",
       "      <th>거래금액</th>\n",
       "      <th>반복매매지수</th>\n",
       "      <th>보정가격</th>\n",
       "    </tr>\n",
       "  </thead>\n",
       "  <tbody>\n",
       "    <tr>\n",
       "      <th>0</th>\n",
       "      <td>0</td>\n",
       "      <td>206412.34</td>\n",
       "      <td>17</td>\n",
       "      <td>0</td>\n",
       "      <td>104167.151</td>\n",
       "      <td>1</td>\n",
       "      <td>1111</td>\n",
       "      <td>181</td>\n",
       "      <td>20</td>\n",
       "      <td>9</td>\n",
       "      <td>29</td>\n",
       "      <td>96.788</td>\n",
       "      <td>0</td>\n",
       "      <td>201907</td>\n",
       "      <td>1.64</td>\n",
       "      <td>0</td>\n",
       "      <td>0</td>\n",
       "      <td>0</td>\n",
       "      <td>1</td>\n",
       "      <td>0</td>\n",
       "      <td>52000</td>\n",
       "      <td>1.112347</td>\n",
       "      <td>46748.001947</td>\n",
       "    </tr>\n",
       "    <tr>\n",
       "      <th>1</th>\n",
       "      <td>0</td>\n",
       "      <td>206412.34</td>\n",
       "      <td>17</td>\n",
       "      <td>0</td>\n",
       "      <td>104167.151</td>\n",
       "      <td>1</td>\n",
       "      <td>1111</td>\n",
       "      <td>181</td>\n",
       "      <td>20</td>\n",
       "      <td>9</td>\n",
       "      <td>29</td>\n",
       "      <td>84.454</td>\n",
       "      <td>0</td>\n",
       "      <td>201909</td>\n",
       "      <td>1.64</td>\n",
       "      <td>0</td>\n",
       "      <td>0</td>\n",
       "      <td>0</td>\n",
       "      <td>1</td>\n",
       "      <td>0</td>\n",
       "      <td>44325</td>\n",
       "      <td>1.123978</td>\n",
       "      <td>39435.827339</td>\n",
       "    </tr>\n",
       "    <tr>\n",
       "      <th>2</th>\n",
       "      <td>0</td>\n",
       "      <td>206412.34</td>\n",
       "      <td>17</td>\n",
       "      <td>0</td>\n",
       "      <td>104167.151</td>\n",
       "      <td>1</td>\n",
       "      <td>1111</td>\n",
       "      <td>181</td>\n",
       "      <td>20</td>\n",
       "      <td>9</td>\n",
       "      <td>29</td>\n",
       "      <td>84.454</td>\n",
       "      <td>0</td>\n",
       "      <td>201911</td>\n",
       "      <td>1.64</td>\n",
       "      <td>0</td>\n",
       "      <td>0</td>\n",
       "      <td>0</td>\n",
       "      <td>1</td>\n",
       "      <td>0</td>\n",
       "      <td>54800</td>\n",
       "      <td>1.113912</td>\n",
       "      <td>49195.967446</td>\n",
       "    </tr>\n",
       "  </tbody>\n",
       "</table>\n",
       "</div>"
      ],
      "text/plain": [
       "   난방방식        연면적  동수  복도유형  ...  기타   거래금액    반복매매지수          보정가격\n",
       "0     0  206412.34  17     0  ...   0  52000  1.112347  46748.001947\n",
       "1     0  206412.34  17     0  ...   0  44325  1.123978  39435.827339\n",
       "2     0  206412.34  17     0  ...   0  54800  1.113912  49195.967446\n",
       "\n",
       "[3 rows x 23 columns]"
      ]
     },
     "execution_count": 5,
     "metadata": {
      "tags": []
     },
     "output_type": "execute_result"
    }
   ],
   "source": [
    "data = pd.read_csv(\"/content/drive/MyDrive/태블로공유폴더/작업/아파트 상세정보   실거래가 데이터/세종시_아파트_데이터_생활권과_지수적용가격.csv\")\n",
    "data.head(3)"
   ]
  },
  {
   "cell_type": "code",
   "execution_count": null,
   "metadata": {
    "id": "c6blDn9xDAF1"
   },
   "outputs": [],
   "source": [
    "# 데이터 train test split 방법 변화\n",
    "X = data.drop(columns=[\"계약년월\",\"거래금액\",\"반복매매지수\"])\n",
    "\n",
    "X0_2 = X[X[\"보정가격\"]<20000].drop(columns=[\"보정가격\"])\n",
    "X2_4 = X[(X[\"보정가격\"]>=20000) & (X[\"보정가격\"]<40000)].drop(columns=[\"보정가격\"])\n",
    "X4_6 = X[(X[\"보정가격\"]>=40000) & (X[\"보정가격\"]<60000)].drop(columns=[\"보정가격\"])\n",
    "X6_8 = X[(X[\"보정가격\"]>=60000) & (X[\"보정가격\"]<80000)].drop(columns=[\"보정가격\"])\n",
    "X8_10 = X[(X[\"보정가격\"]>=80000) & (X[\"보정가격\"]<100000)].drop(columns=[\"보정가격\"])\n",
    "X10_ = X[X[\"보정가격\"]>=100000].drop(columns=[\"보정가격\"])\n",
    "\n",
    "y0_2 = X[X[\"보정가격\"]<20000][\"보정가격\"]\n",
    "y2_4 = X[(X[\"보정가격\"]>=20000) & (X[\"보정가격\"]<40000)][\"보정가격\"]\n",
    "y4_6 = X[(X[\"보정가격\"]>=40000) & (X[\"보정가격\"]<60000)][\"보정가격\"]\n",
    "y6_8 = X[(X[\"보정가격\"]>=60000) & (X[\"보정가격\"]<80000)][\"보정가격\"]\n",
    "y8_10 = X[(X[\"보정가격\"]>=80000) & (X[\"보정가격\"]<100000)][\"보정가격\"]\n",
    "y10_ = X[X[\"보정가격\"]>=100000][\"보정가격\"]\n",
    "\n",
    "X_train1, X_test1, y_train1, y_test1 = train_test_split(X0_2, y0_2, test_size = 0.2, random_state=1004)\n",
    "X_train2, X_test2, y_train2, y_test2 = train_test_split(X2_4, y2_4, test_size = 0.2, random_state=1004)\n",
    "X_train3, X_test3, y_train3, y_test3 = train_test_split(X4_6, y4_6, test_size = 0.2, random_state=1004)\n",
    "X_train4, X_test4, y_train4, y_test4 = train_test_split(X6_8, y6_8, test_size = 0.2, random_state=1004)\n",
    "X_train5, X_test5, y_train5, y_test5 = train_test_split(X8_10, y8_10, test_size = 0.2, random_state=1004)\n",
    "X_train6, X_test6, y_train6, y_test6 = train_test_split(X10_, y10_, test_size = 0.2, random_state=1004)\n",
    "\n",
    "X_train = pd.concat([X_train1,X_train2,X_train3,X_train4,X_train5,X_train6])\n",
    "X_test = pd.concat([X_test1,X_test2,X_test3,X_test4,X_test5,X_test6])\n",
    "y_train = pd.concat([y_train1,y_train2,y_train3,y_train4,y_train5,y_train6])\n",
    "y_test = pd.concat([y_test1,y_test2,y_test3,y_test4,y_test5,y_test6])"
   ]
  },
  {
   "cell_type": "code",
   "execution_count": null,
   "metadata": {
    "id": "9w6ps-8XcLwg"
   },
   "outputs": [],
   "source": [
    "X = data.drop(columns=[\"계약년월\",\"거래금액\",\"반복매매지수\",\"보정가격\"])\n",
    "y = data[\"보정가격\"]\n",
    "\n",
    "X_train, X_test, y_train, y_test = train_test_split(X, y, test_size = 0.2, random_state=1004)"
   ]
  },
  {
   "cell_type": "code",
   "execution_count": null,
   "metadata": {
    "colab": {
     "base_uri": "https://localhost:8080/"
    },
    "executionInfo": {
     "elapsed": 8,
     "status": "ok",
     "timestamp": 1622473994104,
     "user": {
      "displayName": "김성언",
      "photoUrl": "",
      "userId": "08359762628877871553"
     },
     "user_tz": -540
    },
    "id": "6u0YMMl8cA_q",
    "outputId": "cb95d1f4-24e8-4d62-9f50-44fca42b97b0"
   },
   "outputs": [
    {
     "data": {
      "text/plain": [
       "7403     25369.190026\n",
       "19712     5051.096503\n",
       "2484     29788.851074\n",
       "19366    25354.137240\n",
       "19070    20186.791955\n",
       "             ...     \n",
       "12370    22290.273427\n",
       "4089     31013.903537\n",
       "18713     5482.545499\n",
       "8382     40666.632499\n",
       "12825    25108.796298\n",
       "Name: 보정가격, Length: 4044, dtype: float64"
      ]
     },
     "execution_count": 9,
     "metadata": {
      "tags": []
     },
     "output_type": "execute_result"
    }
   ],
   "source": [
    "y_test"
   ]
  },
  {
   "cell_type": "code",
   "execution_count": null,
   "metadata": {
    "colab": {
     "base_uri": "https://localhost:8080/",
     "height": 629
    },
    "executionInfo": {
     "elapsed": 8,
     "status": "ok",
     "timestamp": 1622473994467,
     "user": {
      "displayName": "김성언",
      "photoUrl": "",
      "userId": "08359762628877871553"
     },
     "user_tz": -540
    },
    "id": "riaVhTuzYylq",
    "outputId": "a43c5ab9-7d8e-43c8-d8bf-68fa9a706f0f"
   },
   "outputs": [
    {
     "data": {
      "text/html": [
       "<div>\n",
       "<style scoped>\n",
       "    .dataframe tbody tr th:only-of-type {\n",
       "        vertical-align: middle;\n",
       "    }\n",
       "\n",
       "    .dataframe tbody tr th {\n",
       "        vertical-align: top;\n",
       "    }\n",
       "\n",
       "    .dataframe thead th {\n",
       "        text-align: right;\n",
       "    }\n",
       "</style>\n",
       "<table border=\"1\" class=\"dataframe\">\n",
       "  <thead>\n",
       "    <tr style=\"text-align: right;\">\n",
       "      <th></th>\n",
       "      <th>난방방식</th>\n",
       "      <th>연면적</th>\n",
       "      <th>동수</th>\n",
       "      <th>복도유형</th>\n",
       "      <th>주거전용면적</th>\n",
       "      <th>주차관제</th>\n",
       "      <th>총세대수</th>\n",
       "      <th>용적률</th>\n",
       "      <th>건폐율</th>\n",
       "      <th>저층</th>\n",
       "      <th>고층</th>\n",
       "      <th>전용면적</th>\n",
       "      <th>거래시아파트나이</th>\n",
       "      <th>계약년월</th>\n",
       "      <th>세대당주차대수</th>\n",
       "      <th>생활권1</th>\n",
       "      <th>생활권2</th>\n",
       "      <th>생활권3</th>\n",
       "      <th>생활권4</th>\n",
       "      <th>기타</th>\n",
       "      <th>거래금액</th>\n",
       "      <th>반복매매지수</th>\n",
       "      <th>보정가격</th>\n",
       "    </tr>\n",
       "  </thead>\n",
       "  <tbody>\n",
       "    <tr>\n",
       "      <th>83</th>\n",
       "      <td>0</td>\n",
       "      <td>141373.5383</td>\n",
       "      <td>24</td>\n",
       "      <td>0</td>\n",
       "      <td>71965.2287</td>\n",
       "      <td>1</td>\n",
       "      <td>784</td>\n",
       "      <td>180</td>\n",
       "      <td>22</td>\n",
       "      <td>8</td>\n",
       "      <td>29</td>\n",
       "      <td>102.6287</td>\n",
       "      <td>1</td>\n",
       "      <td>202006</td>\n",
       "      <td>1.56</td>\n",
       "      <td>0</td>\n",
       "      <td>0</td>\n",
       "      <td>0</td>\n",
       "      <td>1</td>\n",
       "      <td>0</td>\n",
       "      <td>115500</td>\n",
       "      <td>1.149101</td>\n",
       "      <td>100513.334151</td>\n",
       "    </tr>\n",
       "    <tr>\n",
       "      <th>94</th>\n",
       "      <td>0</td>\n",
       "      <td>141373.5383</td>\n",
       "      <td>24</td>\n",
       "      <td>0</td>\n",
       "      <td>71965.2287</td>\n",
       "      <td>1</td>\n",
       "      <td>784</td>\n",
       "      <td>180</td>\n",
       "      <td>22</td>\n",
       "      <td>8</td>\n",
       "      <td>29</td>\n",
       "      <td>134.8864</td>\n",
       "      <td>1</td>\n",
       "      <td>202011</td>\n",
       "      <td>1.56</td>\n",
       "      <td>0</td>\n",
       "      <td>0</td>\n",
       "      <td>0</td>\n",
       "      <td>1</td>\n",
       "      <td>0</td>\n",
       "      <td>170000</td>\n",
       "      <td>1.482710</td>\n",
       "      <td>114654.945466</td>\n",
       "    </tr>\n",
       "    <tr>\n",
       "      <th>2878</th>\n",
       "      <td>0</td>\n",
       "      <td>226646.9100</td>\n",
       "      <td>13</td>\n",
       "      <td>2</td>\n",
       "      <td>127588.3900</td>\n",
       "      <td>1</td>\n",
       "      <td>1328</td>\n",
       "      <td>186</td>\n",
       "      <td>17</td>\n",
       "      <td>8</td>\n",
       "      <td>29</td>\n",
       "      <td>149.8600</td>\n",
       "      <td>8</td>\n",
       "      <td>202006</td>\n",
       "      <td>1.42</td>\n",
       "      <td>0</td>\n",
       "      <td>1</td>\n",
       "      <td>0</td>\n",
       "      <td>0</td>\n",
       "      <td>0</td>\n",
       "      <td>125000</td>\n",
       "      <td>1.149101</td>\n",
       "      <td>108780.664666</td>\n",
       "    </tr>\n",
       "    <tr>\n",
       "      <th>3440</th>\n",
       "      <td>0</td>\n",
       "      <td>104263.5490</td>\n",
       "      <td>13</td>\n",
       "      <td>0</td>\n",
       "      <td>72652.5581</td>\n",
       "      <td>1</td>\n",
       "      <td>1027</td>\n",
       "      <td>183</td>\n",
       "      <td>16</td>\n",
       "      <td>10</td>\n",
       "      <td>29</td>\n",
       "      <td>125.0776</td>\n",
       "      <td>3</td>\n",
       "      <td>202007</td>\n",
       "      <td>1.44</td>\n",
       "      <td>0</td>\n",
       "      <td>1</td>\n",
       "      <td>0</td>\n",
       "      <td>0</td>\n",
       "      <td>0</td>\n",
       "      <td>140000</td>\n",
       "      <td>1.345862</td>\n",
       "      <td>104022.583527</td>\n",
       "    </tr>\n",
       "    <tr>\n",
       "      <th>3452</th>\n",
       "      <td>0</td>\n",
       "      <td>104263.5490</td>\n",
       "      <td>13</td>\n",
       "      <td>0</td>\n",
       "      <td>72652.5581</td>\n",
       "      <td>1</td>\n",
       "      <td>1027</td>\n",
       "      <td>183</td>\n",
       "      <td>16</td>\n",
       "      <td>10</td>\n",
       "      <td>29</td>\n",
       "      <td>98.1866</td>\n",
       "      <td>3</td>\n",
       "      <td>202008</td>\n",
       "      <td>1.44</td>\n",
       "      <td>0</td>\n",
       "      <td>1</td>\n",
       "      <td>0</td>\n",
       "      <td>0</td>\n",
       "      <td>0</td>\n",
       "      <td>149900</td>\n",
       "      <td>1.453288</td>\n",
       "      <td>103145.444525</td>\n",
       "    </tr>\n",
       "    <tr>\n",
       "      <th>3453</th>\n",
       "      <td>0</td>\n",
       "      <td>104263.5490</td>\n",
       "      <td>13</td>\n",
       "      <td>0</td>\n",
       "      <td>72652.5581</td>\n",
       "      <td>1</td>\n",
       "      <td>1027</td>\n",
       "      <td>183</td>\n",
       "      <td>16</td>\n",
       "      <td>10</td>\n",
       "      <td>29</td>\n",
       "      <td>98.1866</td>\n",
       "      <td>3</td>\n",
       "      <td>202009</td>\n",
       "      <td>1.44</td>\n",
       "      <td>0</td>\n",
       "      <td>1</td>\n",
       "      <td>0</td>\n",
       "      <td>0</td>\n",
       "      <td>0</td>\n",
       "      <td>150000</td>\n",
       "      <td>1.492225</td>\n",
       "      <td>100521.031365</td>\n",
       "    </tr>\n",
       "    <tr>\n",
       "      <th>3546</th>\n",
       "      <td>0</td>\n",
       "      <td>85279.4875</td>\n",
       "      <td>10</td>\n",
       "      <td>0</td>\n",
       "      <td>42191.7564</td>\n",
       "      <td>1</td>\n",
       "      <td>445</td>\n",
       "      <td>183</td>\n",
       "      <td>17</td>\n",
       "      <td>7</td>\n",
       "      <td>29</td>\n",
       "      <td>133.4907</td>\n",
       "      <td>3</td>\n",
       "      <td>202006</td>\n",
       "      <td>1.53</td>\n",
       "      <td>0</td>\n",
       "      <td>1</td>\n",
       "      <td>0</td>\n",
       "      <td>0</td>\n",
       "      <td>0</td>\n",
       "      <td>138000</td>\n",
       "      <td>1.149101</td>\n",
       "      <td>120093.853791</td>\n",
       "    </tr>\n",
       "    <tr>\n",
       "      <th>3693</th>\n",
       "      <td>0</td>\n",
       "      <td>47565.7432</td>\n",
       "      <td>5</td>\n",
       "      <td>0</td>\n",
       "      <td>22965.2656</td>\n",
       "      <td>1</td>\n",
       "      <td>222</td>\n",
       "      <td>183</td>\n",
       "      <td>23</td>\n",
       "      <td>10</td>\n",
       "      <td>24</td>\n",
       "      <td>107.6708</td>\n",
       "      <td>3</td>\n",
       "      <td>202007</td>\n",
       "      <td>1.77</td>\n",
       "      <td>0</td>\n",
       "      <td>1</td>\n",
       "      <td>0</td>\n",
       "      <td>0</td>\n",
       "      <td>0</td>\n",
       "      <td>139000</td>\n",
       "      <td>1.345862</td>\n",
       "      <td>103279.565073</td>\n",
       "    </tr>\n",
       "    <tr>\n",
       "      <th>3694</th>\n",
       "      <td>0</td>\n",
       "      <td>47565.7432</td>\n",
       "      <td>5</td>\n",
       "      <td>0</td>\n",
       "      <td>22965.2656</td>\n",
       "      <td>1</td>\n",
       "      <td>222</td>\n",
       "      <td>183</td>\n",
       "      <td>23</td>\n",
       "      <td>10</td>\n",
       "      <td>24</td>\n",
       "      <td>107.6708</td>\n",
       "      <td>3</td>\n",
       "      <td>202007</td>\n",
       "      <td>1.77</td>\n",
       "      <td>0</td>\n",
       "      <td>1</td>\n",
       "      <td>0</td>\n",
       "      <td>0</td>\n",
       "      <td>0</td>\n",
       "      <td>140000</td>\n",
       "      <td>1.345862</td>\n",
       "      <td>104022.583527</td>\n",
       "    </tr>\n",
       "    <tr>\n",
       "      <th>3699</th>\n",
       "      <td>0</td>\n",
       "      <td>47565.7432</td>\n",
       "      <td>5</td>\n",
       "      <td>0</td>\n",
       "      <td>22965.2656</td>\n",
       "      <td>1</td>\n",
       "      <td>222</td>\n",
       "      <td>183</td>\n",
       "      <td>23</td>\n",
       "      <td>10</td>\n",
       "      <td>24</td>\n",
       "      <td>107.6708</td>\n",
       "      <td>3</td>\n",
       "      <td>202008</td>\n",
       "      <td>1.77</td>\n",
       "      <td>0</td>\n",
       "      <td>1</td>\n",
       "      <td>0</td>\n",
       "      <td>0</td>\n",
       "      <td>0</td>\n",
       "      <td>149900</td>\n",
       "      <td>1.453288</td>\n",
       "      <td>103145.444525</td>\n",
       "    </tr>\n",
       "    <tr>\n",
       "      <th>3916</th>\n",
       "      <td>0</td>\n",
       "      <td>41329.2100</td>\n",
       "      <td>6</td>\n",
       "      <td>0</td>\n",
       "      <td>21179.7292</td>\n",
       "      <td>1</td>\n",
       "      <td>200</td>\n",
       "      <td>182</td>\n",
       "      <td>21</td>\n",
       "      <td>8</td>\n",
       "      <td>26</td>\n",
       "      <td>108.8552</td>\n",
       "      <td>3</td>\n",
       "      <td>202006</td>\n",
       "      <td>1.69</td>\n",
       "      <td>0</td>\n",
       "      <td>1</td>\n",
       "      <td>0</td>\n",
       "      <td>0</td>\n",
       "      <td>0</td>\n",
       "      <td>115000</td>\n",
       "      <td>1.149101</td>\n",
       "      <td>100078.211493</td>\n",
       "    </tr>\n",
       "    <tr>\n",
       "      <th>5028</th>\n",
       "      <td>0</td>\n",
       "      <td>206369.7112</td>\n",
       "      <td>18</td>\n",
       "      <td>0</td>\n",
       "      <td>94937.0233</td>\n",
       "      <td>1</td>\n",
       "      <td>1076</td>\n",
       "      <td>166</td>\n",
       "      <td>19</td>\n",
       "      <td>8</td>\n",
       "      <td>29</td>\n",
       "      <td>108.9860</td>\n",
       "      <td>2</td>\n",
       "      <td>202007</td>\n",
       "      <td>1.51</td>\n",
       "      <td>0</td>\n",
       "      <td>1</td>\n",
       "      <td>0</td>\n",
       "      <td>0</td>\n",
       "      <td>0</td>\n",
       "      <td>140000</td>\n",
       "      <td>1.345862</td>\n",
       "      <td>104022.583527</td>\n",
       "    </tr>\n",
       "    <tr>\n",
       "      <th>5342</th>\n",
       "      <td>0</td>\n",
       "      <td>85179.4770</td>\n",
       "      <td>19</td>\n",
       "      <td>0</td>\n",
       "      <td>46368.3700</td>\n",
       "      <td>1</td>\n",
       "      <td>511</td>\n",
       "      <td>133</td>\n",
       "      <td>31</td>\n",
       "      <td>2</td>\n",
       "      <td>12</td>\n",
       "      <td>118.8300</td>\n",
       "      <td>7</td>\n",
       "      <td>202001</td>\n",
       "      <td>1.20</td>\n",
       "      <td>1</td>\n",
       "      <td>0</td>\n",
       "      <td>0</td>\n",
       "      <td>0</td>\n",
       "      <td>0</td>\n",
       "      <td>129000</td>\n",
       "      <td>1.207758</td>\n",
       "      <td>106809.501657</td>\n",
       "    </tr>\n",
       "    <tr>\n",
       "      <th>5356</th>\n",
       "      <td>0</td>\n",
       "      <td>85179.4770</td>\n",
       "      <td>19</td>\n",
       "      <td>0</td>\n",
       "      <td>46368.3700</td>\n",
       "      <td>1</td>\n",
       "      <td>511</td>\n",
       "      <td>133</td>\n",
       "      <td>31</td>\n",
       "      <td>2</td>\n",
       "      <td>12</td>\n",
       "      <td>110.5900</td>\n",
       "      <td>7</td>\n",
       "      <td>202006</td>\n",
       "      <td>1.20</td>\n",
       "      <td>1</td>\n",
       "      <td>0</td>\n",
       "      <td>0</td>\n",
       "      <td>0</td>\n",
       "      <td>0</td>\n",
       "      <td>115000</td>\n",
       "      <td>1.149101</td>\n",
       "      <td>100078.211493</td>\n",
       "    </tr>\n",
       "    <tr>\n",
       "      <th>15227</th>\n",
       "      <td>0</td>\n",
       "      <td>180274.3020</td>\n",
       "      <td>14</td>\n",
       "      <td>0</td>\n",
       "      <td>99729.5960</td>\n",
       "      <td>1</td>\n",
       "      <td>979</td>\n",
       "      <td>167</td>\n",
       "      <td>11</td>\n",
       "      <td>26</td>\n",
       "      <td>30</td>\n",
       "      <td>148.1040</td>\n",
       "      <td>2</td>\n",
       "      <td>201705</td>\n",
       "      <td>1.51</td>\n",
       "      <td>1</td>\n",
       "      <td>0</td>\n",
       "      <td>0</td>\n",
       "      <td>0</td>\n",
       "      <td>0</td>\n",
       "      <td>120000</td>\n",
       "      <td>1.108863</td>\n",
       "      <td>108218.971890</td>\n",
       "    </tr>\n",
       "  </tbody>\n",
       "</table>\n",
       "</div>"
      ],
      "text/plain": [
       "       난방방식          연면적  동수  복도유형  ...  기타    거래금액    반복매매지수           보정가격\n",
       "83        0  141373.5383  24     0  ...   0  115500  1.149101  100513.334151\n",
       "94        0  141373.5383  24     0  ...   0  170000  1.482710  114654.945466\n",
       "2878      0  226646.9100  13     2  ...   0  125000  1.149101  108780.664666\n",
       "3440      0  104263.5490  13     0  ...   0  140000  1.345862  104022.583527\n",
       "3452      0  104263.5490  13     0  ...   0  149900  1.453288  103145.444525\n",
       "3453      0  104263.5490  13     0  ...   0  150000  1.492225  100521.031365\n",
       "3546      0   85279.4875  10     0  ...   0  138000  1.149101  120093.853791\n",
       "3693      0   47565.7432   5     0  ...   0  139000  1.345862  103279.565073\n",
       "3694      0   47565.7432   5     0  ...   0  140000  1.345862  104022.583527\n",
       "3699      0   47565.7432   5     0  ...   0  149900  1.453288  103145.444525\n",
       "3916      0   41329.2100   6     0  ...   0  115000  1.149101  100078.211493\n",
       "5028      0  206369.7112  18     0  ...   0  140000  1.345862  104022.583527\n",
       "5342      0   85179.4770  19     0  ...   0  129000  1.207758  106809.501657\n",
       "5356      0   85179.4770  19     0  ...   0  115000  1.149101  100078.211493\n",
       "15227     0  180274.3020  14     0  ...   0  120000  1.108863  108218.971890\n",
       "\n",
       "[15 rows x 23 columns]"
      ]
     },
     "execution_count": 10,
     "metadata": {
      "tags": []
     },
     "output_type": "execute_result"
    }
   ],
   "source": [
    "data[data[\"보정가격\"]>100000]"
   ]
  },
  {
   "cell_type": "code",
   "execution_count": null,
   "metadata": {
    "id": "zXRHdcazWfk8"
   },
   "outputs": [],
   "source": [
    "from sklearn.model_selection import GridSearchCV\n",
    "def svc_param_selection(X, y, nfolds):\n",
    "    param_grid = {'C':[0.001,0.01,0.1,1,10,100,1000,10000] }\n",
    "    grid_search = GridSearchCV(LinearSVR(), param_grid, cv=nfolds, verbose=2)\n",
    "    grid_search.fit(X, y)\n",
    "    grid_search.best_params_\n",
    "    return grid_search.best_params_"
   ]
  },
  {
   "cell_type": "code",
   "execution_count": null,
   "metadata": {
    "colab": {
     "base_uri": "https://localhost:8080/"
    },
    "executionInfo": {
     "elapsed": 45873,
     "status": "ok",
     "timestamp": 1622474042597,
     "user": {
      "displayName": "김성언",
      "photoUrl": "",
      "userId": "08359762628877871553"
     },
     "user_tz": -540
    },
    "id": "tJzmSC-QWh7D",
    "outputId": "bc3c3ada-160f-488c-d52a-9c4c701b892a"
   },
   "outputs": [
    {
     "name": "stdout",
     "output_type": "stream",
     "text": [
      "Fitting 3 folds for each of 8 candidates, totalling 24 fits\n",
      "[CV] C=0.001 .........................................................\n"
     ]
    },
    {
     "name": "stderr",
     "output_type": "stream",
     "text": [
      "[Parallel(n_jobs=1)]: Using backend SequentialBackend with 1 concurrent workers.\n",
      "/usr/local/lib/python3.7/dist-packages/sklearn/svm/_base.py:947: ConvergenceWarning: Liblinear failed to converge, increase the number of iterations.\n",
      "  \"the number of iterations.\", ConvergenceWarning)\n",
      "[Parallel(n_jobs=1)]: Done   1 out of   1 | elapsed:    1.9s remaining:    0.0s\n"
     ]
    },
    {
     "name": "stdout",
     "output_type": "stream",
     "text": [
      "[CV] .......................................... C=0.001, total=   1.9s\n",
      "[CV] C=0.001 .........................................................\n"
     ]
    },
    {
     "name": "stderr",
     "output_type": "stream",
     "text": [
      "/usr/local/lib/python3.7/dist-packages/sklearn/svm/_base.py:947: ConvergenceWarning: Liblinear failed to converge, increase the number of iterations.\n",
      "  \"the number of iterations.\", ConvergenceWarning)\n"
     ]
    },
    {
     "name": "stdout",
     "output_type": "stream",
     "text": [
      "[CV] .......................................... C=0.001, total=   1.9s\n",
      "[CV] C=0.001 .........................................................\n"
     ]
    },
    {
     "name": "stderr",
     "output_type": "stream",
     "text": [
      "/usr/local/lib/python3.7/dist-packages/sklearn/svm/_base.py:947: ConvergenceWarning: Liblinear failed to converge, increase the number of iterations.\n",
      "  \"the number of iterations.\", ConvergenceWarning)\n"
     ]
    },
    {
     "name": "stdout",
     "output_type": "stream",
     "text": [
      "[CV] .......................................... C=0.001, total=   1.6s\n",
      "[CV] C=0.01 ..........................................................\n"
     ]
    },
    {
     "name": "stderr",
     "output_type": "stream",
     "text": [
      "/usr/local/lib/python3.7/dist-packages/sklearn/svm/_base.py:947: ConvergenceWarning: Liblinear failed to converge, increase the number of iterations.\n",
      "  \"the number of iterations.\", ConvergenceWarning)\n"
     ]
    },
    {
     "name": "stdout",
     "output_type": "stream",
     "text": [
      "[CV] ........................................... C=0.01, total=   1.7s\n",
      "[CV] C=0.01 ..........................................................\n"
     ]
    },
    {
     "name": "stderr",
     "output_type": "stream",
     "text": [
      "/usr/local/lib/python3.7/dist-packages/sklearn/svm/_base.py:947: ConvergenceWarning: Liblinear failed to converge, increase the number of iterations.\n",
      "  \"the number of iterations.\", ConvergenceWarning)\n"
     ]
    },
    {
     "name": "stdout",
     "output_type": "stream",
     "text": [
      "[CV] ........................................... C=0.01, total=   1.7s\n",
      "[CV] C=0.01 ..........................................................\n"
     ]
    },
    {
     "name": "stderr",
     "output_type": "stream",
     "text": [
      "/usr/local/lib/python3.7/dist-packages/sklearn/svm/_base.py:947: ConvergenceWarning: Liblinear failed to converge, increase the number of iterations.\n",
      "  \"the number of iterations.\", ConvergenceWarning)\n"
     ]
    },
    {
     "name": "stdout",
     "output_type": "stream",
     "text": [
      "[CV] ........................................... C=0.01, total=   1.7s\n",
      "[CV] C=0.1 ...........................................................\n"
     ]
    },
    {
     "name": "stderr",
     "output_type": "stream",
     "text": [
      "/usr/local/lib/python3.7/dist-packages/sklearn/svm/_base.py:947: ConvergenceWarning: Liblinear failed to converge, increase the number of iterations.\n",
      "  \"the number of iterations.\", ConvergenceWarning)\n"
     ]
    },
    {
     "name": "stdout",
     "output_type": "stream",
     "text": [
      "[CV] ............................................ C=0.1, total=   1.6s\n",
      "[CV] C=0.1 ...........................................................\n"
     ]
    },
    {
     "name": "stderr",
     "output_type": "stream",
     "text": [
      "/usr/local/lib/python3.7/dist-packages/sklearn/svm/_base.py:947: ConvergenceWarning: Liblinear failed to converge, increase the number of iterations.\n",
      "  \"the number of iterations.\", ConvergenceWarning)\n"
     ]
    },
    {
     "name": "stdout",
     "output_type": "stream",
     "text": [
      "[CV] ............................................ C=0.1, total=   1.7s\n",
      "[CV] C=0.1 ...........................................................\n"
     ]
    },
    {
     "name": "stderr",
     "output_type": "stream",
     "text": [
      "/usr/local/lib/python3.7/dist-packages/sklearn/svm/_base.py:947: ConvergenceWarning: Liblinear failed to converge, increase the number of iterations.\n",
      "  \"the number of iterations.\", ConvergenceWarning)\n"
     ]
    },
    {
     "name": "stdout",
     "output_type": "stream",
     "text": [
      "[CV] ............................................ C=0.1, total=   1.6s\n",
      "[CV] C=1 .............................................................\n"
     ]
    },
    {
     "name": "stderr",
     "output_type": "stream",
     "text": [
      "/usr/local/lib/python3.7/dist-packages/sklearn/svm/_base.py:947: ConvergenceWarning: Liblinear failed to converge, increase the number of iterations.\n",
      "  \"the number of iterations.\", ConvergenceWarning)\n"
     ]
    },
    {
     "name": "stdout",
     "output_type": "stream",
     "text": [
      "[CV] .............................................. C=1, total=   1.7s\n",
      "[CV] C=1 .............................................................\n"
     ]
    },
    {
     "name": "stderr",
     "output_type": "stream",
     "text": [
      "/usr/local/lib/python3.7/dist-packages/sklearn/svm/_base.py:947: ConvergenceWarning: Liblinear failed to converge, increase the number of iterations.\n",
      "  \"the number of iterations.\", ConvergenceWarning)\n"
     ]
    },
    {
     "name": "stdout",
     "output_type": "stream",
     "text": [
      "[CV] .............................................. C=1, total=   1.8s\n",
      "[CV] C=1 .............................................................\n"
     ]
    },
    {
     "name": "stderr",
     "output_type": "stream",
     "text": [
      "/usr/local/lib/python3.7/dist-packages/sklearn/svm/_base.py:947: ConvergenceWarning: Liblinear failed to converge, increase the number of iterations.\n",
      "  \"the number of iterations.\", ConvergenceWarning)\n"
     ]
    },
    {
     "name": "stdout",
     "output_type": "stream",
     "text": [
      "[CV] .............................................. C=1, total=   1.7s\n",
      "[CV] C=10 ............................................................\n"
     ]
    },
    {
     "name": "stderr",
     "output_type": "stream",
     "text": [
      "/usr/local/lib/python3.7/dist-packages/sklearn/svm/_base.py:947: ConvergenceWarning: Liblinear failed to converge, increase the number of iterations.\n",
      "  \"the number of iterations.\", ConvergenceWarning)\n"
     ]
    },
    {
     "name": "stdout",
     "output_type": "stream",
     "text": [
      "[CV] ............................................. C=10, total=   1.8s\n",
      "[CV] C=10 ............................................................\n"
     ]
    },
    {
     "name": "stderr",
     "output_type": "stream",
     "text": [
      "/usr/local/lib/python3.7/dist-packages/sklearn/svm/_base.py:947: ConvergenceWarning: Liblinear failed to converge, increase the number of iterations.\n",
      "  \"the number of iterations.\", ConvergenceWarning)\n"
     ]
    },
    {
     "name": "stdout",
     "output_type": "stream",
     "text": [
      "[CV] ............................................. C=10, total=   1.8s\n",
      "[CV] C=10 ............................................................\n"
     ]
    },
    {
     "name": "stderr",
     "output_type": "stream",
     "text": [
      "/usr/local/lib/python3.7/dist-packages/sklearn/svm/_base.py:947: ConvergenceWarning: Liblinear failed to converge, increase the number of iterations.\n",
      "  \"the number of iterations.\", ConvergenceWarning)\n"
     ]
    },
    {
     "name": "stdout",
     "output_type": "stream",
     "text": [
      "[CV] ............................................. C=10, total=   1.7s\n",
      "[CV] C=100 ...........................................................\n"
     ]
    },
    {
     "name": "stderr",
     "output_type": "stream",
     "text": [
      "/usr/local/lib/python3.7/dist-packages/sklearn/svm/_base.py:947: ConvergenceWarning: Liblinear failed to converge, increase the number of iterations.\n",
      "  \"the number of iterations.\", ConvergenceWarning)\n"
     ]
    },
    {
     "name": "stdout",
     "output_type": "stream",
     "text": [
      "[CV] ............................................ C=100, total=   1.7s\n",
      "[CV] C=100 ...........................................................\n"
     ]
    },
    {
     "name": "stderr",
     "output_type": "stream",
     "text": [
      "/usr/local/lib/python3.7/dist-packages/sklearn/svm/_base.py:947: ConvergenceWarning: Liblinear failed to converge, increase the number of iterations.\n",
      "  \"the number of iterations.\", ConvergenceWarning)\n"
     ]
    },
    {
     "name": "stdout",
     "output_type": "stream",
     "text": [
      "[CV] ............................................ C=100, total=   1.8s\n",
      "[CV] C=100 ...........................................................\n"
     ]
    },
    {
     "name": "stderr",
     "output_type": "stream",
     "text": [
      "/usr/local/lib/python3.7/dist-packages/sklearn/svm/_base.py:947: ConvergenceWarning: Liblinear failed to converge, increase the number of iterations.\n",
      "  \"the number of iterations.\", ConvergenceWarning)\n"
     ]
    },
    {
     "name": "stdout",
     "output_type": "stream",
     "text": [
      "[CV] ............................................ C=100, total=   1.9s\n",
      "[CV] C=1000 ..........................................................\n"
     ]
    },
    {
     "name": "stderr",
     "output_type": "stream",
     "text": [
      "/usr/local/lib/python3.7/dist-packages/sklearn/svm/_base.py:947: ConvergenceWarning: Liblinear failed to converge, increase the number of iterations.\n",
      "  \"the number of iterations.\", ConvergenceWarning)\n"
     ]
    },
    {
     "name": "stdout",
     "output_type": "stream",
     "text": [
      "[CV] ........................................... C=1000, total=   1.8s\n",
      "[CV] C=1000 ..........................................................\n"
     ]
    },
    {
     "name": "stderr",
     "output_type": "stream",
     "text": [
      "/usr/local/lib/python3.7/dist-packages/sklearn/svm/_base.py:947: ConvergenceWarning: Liblinear failed to converge, increase the number of iterations.\n",
      "  \"the number of iterations.\", ConvergenceWarning)\n"
     ]
    },
    {
     "name": "stdout",
     "output_type": "stream",
     "text": [
      "[CV] ........................................... C=1000, total=   1.7s\n",
      "[CV] C=1000 ..........................................................\n"
     ]
    },
    {
     "name": "stderr",
     "output_type": "stream",
     "text": [
      "/usr/local/lib/python3.7/dist-packages/sklearn/svm/_base.py:947: ConvergenceWarning: Liblinear failed to converge, increase the number of iterations.\n",
      "  \"the number of iterations.\", ConvergenceWarning)\n"
     ]
    },
    {
     "name": "stdout",
     "output_type": "stream",
     "text": [
      "[CV] ........................................... C=1000, total=   1.8s\n",
      "[CV] C=10000 .........................................................\n"
     ]
    },
    {
     "name": "stderr",
     "output_type": "stream",
     "text": [
      "/usr/local/lib/python3.7/dist-packages/sklearn/svm/_base.py:947: ConvergenceWarning: Liblinear failed to converge, increase the number of iterations.\n",
      "  \"the number of iterations.\", ConvergenceWarning)\n"
     ]
    },
    {
     "name": "stdout",
     "output_type": "stream",
     "text": [
      "[CV] .......................................... C=10000, total=   1.8s\n",
      "[CV] C=10000 .........................................................\n"
     ]
    },
    {
     "name": "stderr",
     "output_type": "stream",
     "text": [
      "/usr/local/lib/python3.7/dist-packages/sklearn/svm/_base.py:947: ConvergenceWarning: Liblinear failed to converge, increase the number of iterations.\n",
      "  \"the number of iterations.\", ConvergenceWarning)\n"
     ]
    },
    {
     "name": "stdout",
     "output_type": "stream",
     "text": [
      "[CV] .......................................... C=10000, total=   1.9s\n",
      "[CV] C=10000 .........................................................\n"
     ]
    },
    {
     "name": "stderr",
     "output_type": "stream",
     "text": [
      "/usr/local/lib/python3.7/dist-packages/sklearn/svm/_base.py:947: ConvergenceWarning: Liblinear failed to converge, increase the number of iterations.\n",
      "  \"the number of iterations.\", ConvergenceWarning)\n",
      "[Parallel(n_jobs=1)]: Done  24 out of  24 | elapsed:   42.1s finished\n"
     ]
    },
    {
     "name": "stdout",
     "output_type": "stream",
     "text": [
      "[CV] .......................................... C=10000, total=   1.7s\n"
     ]
    },
    {
     "name": "stderr",
     "output_type": "stream",
     "text": [
      "/usr/local/lib/python3.7/dist-packages/sklearn/svm/_base.py:947: ConvergenceWarning: Liblinear failed to converge, increase the number of iterations.\n",
      "  \"the number of iterations.\", ConvergenceWarning)\n"
     ]
    },
    {
     "data": {
      "text/plain": [
       "{'C': 1}"
      ]
     },
     "execution_count": 12,
     "metadata": {
      "tags": []
     },
     "output_type": "execute_result"
    }
   ],
   "source": [
    "# 파라미터 조절\n",
    "svc_param_selection(X, y, 3)"
   ]
  },
  {
   "cell_type": "code",
   "execution_count": null,
   "metadata": {
    "colab": {
     "base_uri": "https://localhost:8080/"
    },
    "executionInfo": {
     "elapsed": 2989,
     "status": "ok",
     "timestamp": 1622476276508,
     "user": {
      "displayName": "김성언",
      "photoUrl": "",
      "userId": "08359762628877871553"
     },
     "user_tz": -540
    },
    "id": "4Ry65PoDGpOn",
    "outputId": "dfc3fa2d-f236-42b5-e991-4a4f2c6e7970"
   },
   "outputs": [
    {
     "name": "stderr",
     "output_type": "stream",
     "text": [
      "/usr/local/lib/python3.7/dist-packages/sklearn/svm/_base.py:947: ConvergenceWarning: Liblinear failed to converge, increase the number of iterations.\n",
      "  \"the number of iterations.\", ConvergenceWarning)\n"
     ]
    }
   ],
   "source": [
    "svm_reg = LinearSVR(C=1,epsilon=10000)\n",
    "svm_reg.fit(X_train, y_train)\n",
    "y_test_pred = svm_reg.predict(X_test)"
   ]
  },
  {
   "cell_type": "code",
   "execution_count": null,
   "metadata": {
    "colab": {
     "base_uri": "https://localhost:8080/",
     "height": 450
    },
    "executionInfo": {
     "elapsed": 533,
     "status": "ok",
     "timestamp": 1622476277023,
     "user": {
      "displayName": "김성언",
      "photoUrl": "",
      "userId": "08359762628877871553"
     },
     "user_tz": -540
    },
    "id": "qlGysDNmGq51",
    "outputId": "3737ae35-9d9b-44be-fc69-c824c47d364c"
   },
   "outputs": [
    {
     "data": {
      "text/plain": [
       "<matplotlib.collections.PathCollection at 0x7fd4a4ac4690>"
      ]
     },
     "execution_count": 52,
     "metadata": {
      "tags": []
     },
     "output_type": "execute_result"
    },
    {
     "data": {
      "image/png": "[encoded data removed]",
      "text/plain": [
       "<Figure size 504x504 with 1 Axes>"
      ]
     },
     "metadata": {
      "needs_background": "light",
      "tags": []
     },
     "output_type": "display_data"
    }
   ],
   "source": [
    "plt.figure(figsize=(7,7))\n",
    "plt.axis([0, 160000, 0, 160000])\n",
    "plt.scatter( y_test_pred,y_test)"
   ]
  },
  {
   "cell_type": "code",
   "execution_count": null,
   "metadata": {
    "colab": {
     "base_uri": "https://localhost:8080/"
    },
    "executionInfo": {
     "elapsed": 225,
     "status": "ok",
     "timestamp": 1622128074703,
     "user": {
      "displayName": "김성언",
      "photoUrl": "",
      "userId": "08359762628877871553"
     },
     "user_tz": -540
    },
    "id": "wr5A60QUCQWG",
    "outputId": "6b043275-02fb-41e8-b8b2-b8b17c3b8371"
   },
   "outputs": [
    {
     "name": "stdout",
     "output_type": "stream",
     "text": [
      "\n",
      "#### Performance ####\n",
      "Mean squared error = 788610334.62\n",
      "Explained variance score = -0.72\n"
     ]
    }
   ],
   "source": [
    "mse = mean_squared_error(y_test, y_test_pred)\n",
    "evs = explained_variance_score(y_test, y_test_pred) \n",
    "print(\"\\n#### Performance ####\")\n",
    "print(\"Mean squared error =\", round(mse, 2))\n",
    "print(\"Explained variance score =\", round(evs, 2))"
   ]
  },
  {
   "cell_type": "code",
   "execution_count": null,
   "metadata": {
    "colab": {
     "base_uri": "https://localhost:8080/"
    },
    "executionInfo": {
     "elapsed": 3458,
     "status": "ok",
     "timestamp": 1622476321225,
     "user": {
      "displayName": "김성언",
      "photoUrl": "",
      "userId": "08359762628877871553"
     },
     "user_tz": -540
    },
    "id": "r2iXrW7KTViq",
    "outputId": "6ed9ac53-ed83-4f57-9074-c45a0140f690"
   },
   "outputs": [
    {
     "name": "stderr",
     "output_type": "stream",
     "text": [
      "/usr/local/lib/python3.7/dist-packages/sklearn/svm/_base.py:947: ConvergenceWarning: Liblinear failed to converge, increase the number of iterations.\n",
      "  \"the number of iterations.\", ConvergenceWarning)\n"
     ]
    }
   ],
   "source": [
    "# L1 베이스로 feature 추출\n",
    "lsvr = LinearSVR(C=1, epsilon=10000).fit(X, y)\n",
    "model = SelectFromModel(lsvr, prefit=True)\n",
    "X_new = model.transform(X)"
   ]
  },
  {
   "cell_type": "code",
   "execution_count": null,
   "metadata": {
    "id": "pXdK_al6Wpoy"
   },
   "outputs": [],
   "source": [
    "# 추출한 데이터 스플릿\n",
    "nX_train, nX_test, ny_train, ny_test = train_test_split(X_new, y, test_size = 0.2, random_state=1500)"
   ]
  },
  {
   "cell_type": "code",
   "execution_count": null,
   "metadata": {
    "colab": {
     "base_uri": "https://localhost:8080/"
    },
    "executionInfo": {
     "elapsed": 11,
     "status": "ok",
     "timestamp": 1622476321230,
     "user": {
      "displayName": "김성언",
      "photoUrl": "",
      "userId": "08359762628877871553"
     },
     "user_tz": -540
    },
    "id": "4yQ63ORxKVws",
    "outputId": "e9745774-c0a6-4c39-f5ac-810c14295020"
   },
   "outputs": [
    {
     "data": {
      "text/plain": [
       "array([181.   ,  29.   ,  96.788,   0.   ])"
      ]
     },
     "execution_count": 55,
     "metadata": {
      "tags": []
     },
     "output_type": "execute_result"
    }
   ],
   "source": [
    "X_new[10] "
   ]
  },
  {
   "cell_type": "code",
   "execution_count": null,
   "metadata": {
    "id": "qqHbSd0iWtG5"
   },
   "outputs": [],
   "source": [
    "# 추출한 데이터로 예측\n",
    "newlsvr = LinearSVR(C = 1,epsilon=10000).fit(nX_train, ny_train)\n",
    "new_pred = newlsvr.predict(nX_test)"
   ]
  },
  {
   "cell_type": "code",
   "execution_count": null,
   "metadata": {
    "colab": {
     "base_uri": "https://localhost:8080/",
     "height": 304
    },
    "executionInfo": {
     "elapsed": 11,
     "status": "ok",
     "timestamp": 1622476395137,
     "user": {
      "displayName": "김성언",
      "photoUrl": "",
      "userId": "08359762628877871553"
     },
     "user_tz": -540
    },
    "id": "OVtzlmKZXE86",
    "outputId": "4fdaa356-44e4-47c3-86cd-517d3b6ae535"
   },
   "outputs": [
    {
     "data": {
      "text/plain": [
       "<Figure size 720x720 with 0 Axes>"
      ]
     },
     "execution_count": 76,
     "metadata": {
      "tags": []
     },
     "output_type": "execute_result"
    },
    {
     "data": {
      "image/png": "[encoded data removed]",
      "text/plain": [
       "<Figure size 432x288 with 1 Axes>"
      ]
     },
     "metadata": {
      "needs_background": "light",
      "tags": []
     },
     "output_type": "display_data"
    },
    {
     "data": {
      "text/plain": [
       "<Figure size 720x720 with 0 Axes>"
      ]
     },
     "metadata": {
      "tags": []
     },
     "output_type": "display_data"
    }
   ],
   "source": [
    "# 추출한 데이터 예측값과 실제값 비교 train에 없는 가격 있을 수도 있음. c 파라미터 조절\n",
    "plt.scatter(new_pred, ny_test)\n",
    "plt.axis([0, 160000, 0, 160000])\n",
    "plt.figure(figsize = (10,10))"
   ]
  },
  {
   "cell_type": "code",
   "execution_count": null,
   "metadata": {
    "colab": {
     "base_uri": "https://localhost:8080/"
    },
    "executionInfo": {
     "elapsed": 248,
     "status": "ok",
     "timestamp": 1622128078996,
     "user": {
      "displayName": "김성언",
      "photoUrl": "",
      "userId": "08359762628877871553"
     },
     "user_tz": -540
    },
    "id": "KEoj8ifmTSfE",
    "outputId": "4fe7d39d-7798-4b0e-e77f-195c6a45f3b5"
   },
   "outputs": [
    {
     "name": "stdout",
     "output_type": "stream",
     "text": [
      "\n",
      "#### Performance ####\n",
      "Mean squared error = 157975359.51\n",
      "Explained variance score = 0.33\n"
     ]
    }
   ],
   "source": [
    "mse = mean_squared_error(ny_test,new_pred)\n",
    "evs = explained_variance_score(ny_test, new_pred) \n",
    "print(\"\\n#### Performance ####\")\n",
    "print(\"Mean squared error =\", round(mse, 2))\n",
    "print(\"Explained variance score =\", round(evs, 2))"
   ]
  },
  {
   "cell_type": "code",
   "execution_count": null,
   "metadata": {
    "id": "mglzdgK7nQCg"
   },
   "outputs": [],
   "source": []
  }
 ],
 "metadata": {
  "colab": {
   "collapsed_sections": [],
   "name": "SVR.ipynb",
   "provenance": []
  },
  "kernelspec": {
   "display_name": "Python 3",
   "language": "python",
   "name": "python3"
  },
  "language_info": {
   "codemirror_mode": {
    "name": "ipython",
    "version": 3
   },
   "file_extension": ".py",
   "mimetype": "text/x-python",
   "name": "python",
   "nbconvert_exporter": "python",
   "pygments_lexer": "ipython3",
   "version": "3.7.3"
  }
 },
 "nbformat": 4,
 "nbformat_minor": 1
}
